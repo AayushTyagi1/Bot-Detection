{
 "cells": [
  {
   "cell_type": "markdown",
   "metadata": {},
   "source": [
    "# Twitter bot Detection\n",
    "## -Aayush Tyagi 2013206"
   ]
  },
  {
   "cell_type": "code",
   "execution_count": 697,
   "metadata": {},
   "outputs": [],
   "source": [
    "# Import Libraries\n",
    "import numpy as np\n",
    "import pandas as pd\n",
    "import matplotlib.pyplot as plt\n",
    "from sklearn.impute import SimpleImputer\n",
    "import seaborn as sns\n",
    "import sys\n",
    "import warnings\n",
    "if not sys.warnoptions:\n",
    "    warnings.simplefilter(\"ignore\")"
   ]
  },
  {
   "cell_type": "code",
   "execution_count": 698,
   "metadata": {},
   "outputs": [],
   "source": [
    "from sklearn.metrics import accuracy_score\n",
    "from sklearn.metrics import precision_score\n",
    "from sklearn.metrics import recall_score\n",
    "from sklearn.metrics import f1_score\n",
    "import random"
   ]
  },
  {
   "cell_type": "code",
   "execution_count": 699,
   "metadata": {},
   "outputs": [],
   "source": [
    "\n",
    "def Performance(actual_value , predicted_value):\n",
    "    accuracy = accuracy_score(actual_value , predicted_value) * 100\n",
    "    precision = precision_score(actual_value , predicted_value) * 100\n",
    "    recall = recall_score(actual_value , predicted_value) * 100\n",
    "    f1 = f1_score(actual_value , predicted_value, average='weighted')\n",
    "    print('Accuracy is {:.4f}%\\n Precision is {:.4f}%\\n Recall is {:.4f}%\\nF1 Score is {:.4f}\\n'.format(accuracy, precision, recall, f1))"
   ]
  },
  {
   "cell_type": "code",
   "execution_count": 700,
   "metadata": {},
   "outputs": [],
   "source": [
    "# Set Data\n",
    "training_data = pd.read_csv(\"training_data_2_csv_UTF.csv\")"
   ]
  },
  {
   "cell_type": "code",
   "execution_count": 701,
   "metadata": {},
   "outputs": [
    {
     "data": {
      "text/plain": [
       "Index(['id', 'id_str', 'screen_name', 'location', 'description', 'url',\n",
       "       'followers_count', 'friends_count', 'listed_count', 'created_at',\n",
       "       'favourites_count', 'verified', 'statuses_count', 'lang', 'status',\n",
       "       'default_profile', 'default_profile_image', 'has_extended_profile',\n",
       "       'name', 'bot'],\n",
       "      dtype='object')"
      ]
     },
     "execution_count": 701,
     "metadata": {},
     "output_type": "execute_result"
    }
   ],
   "source": [
    "training_data.columns"
   ]
  },
  {
   "cell_type": "code",
   "execution_count": 702,
   "metadata": {},
   "outputs": [
    {
     "data": {
      "text/html": [
       "<div>\n",
       "<style scoped>\n",
       "    .dataframe tbody tr th:only-of-type {\n",
       "        vertical-align: middle;\n",
       "    }\n",
       "\n",
       "    .dataframe tbody tr th {\n",
       "        vertical-align: top;\n",
       "    }\n",
       "\n",
       "    .dataframe thead th {\n",
       "        text-align: right;\n",
       "    }\n",
       "</style>\n",
       "<table border=\"1\" class=\"dataframe\">\n",
       "  <thead>\n",
       "    <tr style=\"text-align: right;\">\n",
       "      <th></th>\n",
       "      <th>id</th>\n",
       "      <th>id_str</th>\n",
       "      <th>screen_name</th>\n",
       "      <th>location</th>\n",
       "      <th>description</th>\n",
       "      <th>url</th>\n",
       "      <th>followers_count</th>\n",
       "      <th>friends_count</th>\n",
       "      <th>listed_count</th>\n",
       "      <th>created_at</th>\n",
       "      <th>favourites_count</th>\n",
       "      <th>verified</th>\n",
       "      <th>statuses_count</th>\n",
       "      <th>lang</th>\n",
       "      <th>status</th>\n",
       "      <th>default_profile</th>\n",
       "      <th>default_profile_image</th>\n",
       "      <th>has_extended_profile</th>\n",
       "      <th>name</th>\n",
       "      <th>bot</th>\n",
       "    </tr>\n",
       "  </thead>\n",
       "  <tbody>\n",
       "    <tr>\n",
       "      <th>0</th>\n",
       "      <td>8.160000e+17</td>\n",
       "      <td>\"815745789754417152\"</td>\n",
       "      <td>\"HoustonPokeMap\"</td>\n",
       "      <td>\"Houston, TX\"</td>\n",
       "      <td>\"Rare and strong PokŽmon in Houston, TX. See m...</td>\n",
       "      <td>\"https://t.co/dnWuDbFRkt\"</td>\n",
       "      <td>1291</td>\n",
       "      <td>0</td>\n",
       "      <td>10</td>\n",
       "      <td>\"Mon Jan 02 02:25:26 +0000 2017\"</td>\n",
       "      <td>0</td>\n",
       "      <td>False</td>\n",
       "      <td>78554</td>\n",
       "      <td>\"en\"</td>\n",
       "      <td>{\\r      \"created_at\": \"Sun Mar 12 15:44:04 +0...</td>\n",
       "      <td>True</td>\n",
       "      <td>False</td>\n",
       "      <td>False</td>\n",
       "      <td>\"Houston PokŽ Alert\"</td>\n",
       "      <td>1</td>\n",
       "    </tr>\n",
       "    <tr>\n",
       "      <th>1</th>\n",
       "      <td>4.843621e+09</td>\n",
       "      <td>4843621225</td>\n",
       "      <td>kernyeahx</td>\n",
       "      <td>Templeville town, MD, USA</td>\n",
       "      <td>From late 2014 Socium Marketplace will make sh...</td>\n",
       "      <td>NaN</td>\n",
       "      <td>1</td>\n",
       "      <td>349</td>\n",
       "      <td>0</td>\n",
       "      <td>2/1/2016 7:37</td>\n",
       "      <td>38</td>\n",
       "      <td>False</td>\n",
       "      <td>31</td>\n",
       "      <td>en</td>\n",
       "      <td>NaN</td>\n",
       "      <td>True</td>\n",
       "      <td>False</td>\n",
       "      <td>False</td>\n",
       "      <td>Keri Nelson</td>\n",
       "      <td>1</td>\n",
       "    </tr>\n",
       "    <tr>\n",
       "      <th>2</th>\n",
       "      <td>4.303727e+09</td>\n",
       "      <td>4303727112</td>\n",
       "      <td>mattlieberisbot</td>\n",
       "      <td>NaN</td>\n",
       "      <td>Inspired by the smart, funny folks at @replyal...</td>\n",
       "      <td>https://t.co/P1e1o0m4KC</td>\n",
       "      <td>1086</td>\n",
       "      <td>0</td>\n",
       "      <td>14</td>\n",
       "      <td>Fri Nov 20 18:53:22 +0000 2015</td>\n",
       "      <td>0</td>\n",
       "      <td>False</td>\n",
       "      <td>713</td>\n",
       "      <td>en</td>\n",
       "      <td>{'retweeted': False, 'is_quote_status': False,...</td>\n",
       "      <td>True</td>\n",
       "      <td>False</td>\n",
       "      <td>False</td>\n",
       "      <td>Matt Lieber Is Bot</td>\n",
       "      <td>1</td>\n",
       "    </tr>\n",
       "    <tr>\n",
       "      <th>3</th>\n",
       "      <td>3.063139e+09</td>\n",
       "      <td>3063139353</td>\n",
       "      <td>sc_papers</td>\n",
       "      <td>NaN</td>\n",
       "      <td>NaN</td>\n",
       "      <td>NaN</td>\n",
       "      <td>33</td>\n",
       "      <td>0</td>\n",
       "      <td>8</td>\n",
       "      <td>2/25/2015 20:11</td>\n",
       "      <td>0</td>\n",
       "      <td>False</td>\n",
       "      <td>676</td>\n",
       "      <td>en</td>\n",
       "      <td>Construction of human anti-tetanus single-chai...</td>\n",
       "      <td>True</td>\n",
       "      <td>True</td>\n",
       "      <td>False</td>\n",
       "      <td>single cell papers</td>\n",
       "      <td>1</td>\n",
       "    </tr>\n",
       "    <tr>\n",
       "      <th>4</th>\n",
       "      <td>2.955142e+09</td>\n",
       "      <td>2955142070</td>\n",
       "      <td>lucarivera16</td>\n",
       "      <td>Dublin, United States</td>\n",
       "      <td>Inspiring cooks everywhere since 1956.</td>\n",
       "      <td>NaN</td>\n",
       "      <td>11</td>\n",
       "      <td>745</td>\n",
       "      <td>0</td>\n",
       "      <td>1/1/2015 17:44</td>\n",
       "      <td>146</td>\n",
       "      <td>False</td>\n",
       "      <td>185</td>\n",
       "      <td>en</td>\n",
       "      <td>NaN</td>\n",
       "      <td>False</td>\n",
       "      <td>False</td>\n",
       "      <td>False</td>\n",
       "      <td>lucarivera16</td>\n",
       "      <td>1</td>\n",
       "    </tr>\n",
       "    <tr>\n",
       "      <th>5</th>\n",
       "      <td>8.410000e+17</td>\n",
       "      <td>8.41E+17</td>\n",
       "      <td>dantheimprover</td>\n",
       "      <td>Austin, TX</td>\n",
       "      <td>Just a guy trying to do good by telling everyo...</td>\n",
       "      <td>NaN</td>\n",
       "      <td>1</td>\n",
       "      <td>186</td>\n",
       "      <td>0</td>\n",
       "      <td>13/03/2017 22:53</td>\n",
       "      <td>0</td>\n",
       "      <td>False</td>\n",
       "      <td>11</td>\n",
       "      <td>en</td>\n",
       "      <td>Status(_api=&lt;tweepy.api.API object at 0x101927...</td>\n",
       "      <td>True</td>\n",
       "      <td>False</td>\n",
       "      <td>True</td>\n",
       "      <td>dantheimprover</td>\n",
       "      <td>1</td>\n",
       "    </tr>\n",
       "    <tr>\n",
       "      <th>6</th>\n",
       "      <td>2.482835e+09</td>\n",
       "      <td>2482834658</td>\n",
       "      <td>_all_of_us_</td>\n",
       "      <td>in a machine.</td>\n",
       "      <td>bot by @rubicon</td>\n",
       "      <td>NaN</td>\n",
       "      <td>193</td>\n",
       "      <td>0</td>\n",
       "      <td>19</td>\n",
       "      <td>Wed May 07 22:29:25 +0000 2014</td>\n",
       "      <td>0</td>\n",
       "      <td>False</td>\n",
       "      <td>6068</td>\n",
       "      <td>en</td>\n",
       "      <td>{u'contributors': None, u'truncated': False, u...</td>\n",
       "      <td>False</td>\n",
       "      <td>False</td>\n",
       "      <td>False</td>\n",
       "      <td>everything always</td>\n",
       "      <td>1</td>\n",
       "    </tr>\n",
       "    <tr>\n",
       "      <th>7</th>\n",
       "      <td>3.333574e+09</td>\n",
       "      <td>3333573622</td>\n",
       "      <td>KatamariItems</td>\n",
       "      <td>NaN</td>\n",
       "      <td>[Bot rolled up by @BeachEpisode] Cataloguing e...</td>\n",
       "      <td>NaN</td>\n",
       "      <td>8227</td>\n",
       "      <td>2</td>\n",
       "      <td>89</td>\n",
       "      <td>Thu Jun 18 22:07:31 +0000 2015</td>\n",
       "      <td>26</td>\n",
       "      <td>False</td>\n",
       "      <td>2597</td>\n",
       "      <td>en</td>\n",
       "      <td>{u'contributors': None, u'truncated': False, u...</td>\n",
       "      <td>True</td>\n",
       "      <td>False</td>\n",
       "      <td>False</td>\n",
       "      <td>Katamari Collection</td>\n",
       "      <td>1</td>\n",
       "    </tr>\n",
       "    <tr>\n",
       "      <th>8</th>\n",
       "      <td>2.996105e+09</td>\n",
       "      <td>2996105102</td>\n",
       "      <td>AutophagyPapers</td>\n",
       "      <td>NaN</td>\n",
       "      <td>Twitterbot for #Autophagy papers. Curated by @...</td>\n",
       "      <td>NaN</td>\n",
       "      <td>275</td>\n",
       "      <td>0</td>\n",
       "      <td>17</td>\n",
       "      <td>1/25/2015 17:34</td>\n",
       "      <td>23</td>\n",
       "      <td>False</td>\n",
       "      <td>9922</td>\n",
       "      <td>en</td>\n",
       "      <td>Feeding Schedule And Proteolysis Regulate Auto...</td>\n",
       "      <td>False</td>\n",
       "      <td>False</td>\n",
       "      <td>False</td>\n",
       "      <td>Autophagy Papers</td>\n",
       "      <td>1</td>\n",
       "    </tr>\n",
       "    <tr>\n",
       "      <th>9</th>\n",
       "      <td>3.271096e+09</td>\n",
       "      <td>3271095818</td>\n",
       "      <td>HSC_papers</td>\n",
       "      <td>NaN</td>\n",
       "      <td>NaN</td>\n",
       "      <td>NaN</td>\n",
       "      <td>51</td>\n",
       "      <td>3</td>\n",
       "      <td>9</td>\n",
       "      <td>7/7/2015 15:23</td>\n",
       "      <td>0</td>\n",
       "      <td>False</td>\n",
       "      <td>2515</td>\n",
       "      <td>en</td>\n",
       "      <td>Functional Selectivity in Cytokine Signaling R...</td>\n",
       "      <td>True</td>\n",
       "      <td>False</td>\n",
       "      <td>False</td>\n",
       "      <td>Hematopoiesis</td>\n",
       "      <td>1</td>\n",
       "    </tr>\n",
       "  </tbody>\n",
       "</table>\n",
       "</div>"
      ],
      "text/plain": [
       "             id                id_str       screen_name  \\\n",
       "0  8.160000e+17  \"815745789754417152\"  \"HoustonPokeMap\"   \n",
       "1  4.843621e+09            4843621225         kernyeahx   \n",
       "2  4.303727e+09            4303727112   mattlieberisbot   \n",
       "3  3.063139e+09            3063139353         sc_papers   \n",
       "4  2.955142e+09            2955142070      lucarivera16   \n",
       "5  8.410000e+17              8.41E+17    dantheimprover   \n",
       "6  2.482835e+09            2482834658       _all_of_us_   \n",
       "7  3.333574e+09            3333573622     KatamariItems   \n",
       "8  2.996105e+09            2996105102   AutophagyPapers   \n",
       "9  3.271096e+09            3271095818        HSC_papers   \n",
       "\n",
       "                    location  \\\n",
       "0              \"Houston, TX\"   \n",
       "1  Templeville town, MD, USA   \n",
       "2                        NaN   \n",
       "3                        NaN   \n",
       "4      Dublin, United States   \n",
       "5                 Austin, TX   \n",
       "6              in a machine.   \n",
       "7                        NaN   \n",
       "8                        NaN   \n",
       "9                        NaN   \n",
       "\n",
       "                                         description  \\\n",
       "0  \"Rare and strong PokŽmon in Houston, TX. See m...   \n",
       "1  From late 2014 Socium Marketplace will make sh...   \n",
       "2  Inspired by the smart, funny folks at @replyal...   \n",
       "3                                                NaN   \n",
       "4             Inspiring cooks everywhere since 1956.   \n",
       "5  Just a guy trying to do good by telling everyo...   \n",
       "6                                    bot by @rubicon   \n",
       "7  [Bot rolled up by @BeachEpisode] Cataloguing e...   \n",
       "8  Twitterbot for #Autophagy papers. Curated by @...   \n",
       "9                                                NaN   \n",
       "\n",
       "                         url  followers_count  friends_count  listed_count  \\\n",
       "0  \"https://t.co/dnWuDbFRkt\"             1291              0            10   \n",
       "1                        NaN                1            349             0   \n",
       "2    https://t.co/P1e1o0m4KC             1086              0            14   \n",
       "3                        NaN               33              0             8   \n",
       "4                        NaN               11            745             0   \n",
       "5                        NaN                1            186             0   \n",
       "6                        NaN              193              0            19   \n",
       "7                        NaN             8227              2            89   \n",
       "8                        NaN              275              0            17   \n",
       "9                        NaN               51              3             9   \n",
       "\n",
       "                         created_at  favourites_count  verified  \\\n",
       "0  \"Mon Jan 02 02:25:26 +0000 2017\"                 0     False   \n",
       "1                     2/1/2016 7:37                38     False   \n",
       "2    Fri Nov 20 18:53:22 +0000 2015                 0     False   \n",
       "3                   2/25/2015 20:11                 0     False   \n",
       "4                    1/1/2015 17:44               146     False   \n",
       "5                  13/03/2017 22:53                 0     False   \n",
       "6    Wed May 07 22:29:25 +0000 2014                 0     False   \n",
       "7    Thu Jun 18 22:07:31 +0000 2015                26     False   \n",
       "8                   1/25/2015 17:34                23     False   \n",
       "9                    7/7/2015 15:23                 0     False   \n",
       "\n",
       "   statuses_count  lang                                             status  \\\n",
       "0           78554  \"en\"  {\\r      \"created_at\": \"Sun Mar 12 15:44:04 +0...   \n",
       "1              31    en                                                NaN   \n",
       "2             713    en  {'retweeted': False, 'is_quote_status': False,...   \n",
       "3             676    en  Construction of human anti-tetanus single-chai...   \n",
       "4             185    en                                                NaN   \n",
       "5              11    en  Status(_api=<tweepy.api.API object at 0x101927...   \n",
       "6            6068    en  {u'contributors': None, u'truncated': False, u...   \n",
       "7            2597    en  {u'contributors': None, u'truncated': False, u...   \n",
       "8            9922    en  Feeding Schedule And Proteolysis Regulate Auto...   \n",
       "9            2515    en  Functional Selectivity in Cytokine Signaling R...   \n",
       "\n",
       "   default_profile  default_profile_image has_extended_profile  \\\n",
       "0             True                  False                False   \n",
       "1             True                  False                False   \n",
       "2             True                  False                False   \n",
       "3             True                   True                False   \n",
       "4            False                  False                False   \n",
       "5             True                  False                 True   \n",
       "6            False                  False                False   \n",
       "7             True                  False                False   \n",
       "8            False                  False                False   \n",
       "9             True                  False                False   \n",
       "\n",
       "                   name  bot  \n",
       "0  \"Houston PokŽ Alert\"    1  \n",
       "1           Keri Nelson    1  \n",
       "2    Matt Lieber Is Bot    1  \n",
       "3    single cell papers    1  \n",
       "4          lucarivera16    1  \n",
       "5        dantheimprover    1  \n",
       "6     everything always    1  \n",
       "7   Katamari Collection    1  \n",
       "8      Autophagy Papers    1  \n",
       "9         Hematopoiesis    1  "
      ]
     },
     "execution_count": 702,
     "metadata": {},
     "output_type": "execute_result"
    }
   ],
   "source": [
    "training_data.head(10)"
   ]
  },
  {
   "cell_type": "code",
   "execution_count": null,
   "metadata": {},
   "outputs": [],
   "source": []
  },
  {
   "cell_type": "code",
   "execution_count": 703,
   "metadata": {
    "scrolled": true
   },
   "outputs": [
    {
     "data": {
      "text/html": [
       "<div>\n",
       "<style scoped>\n",
       "    .dataframe tbody tr th:only-of-type {\n",
       "        vertical-align: middle;\n",
       "    }\n",
       "\n",
       "    .dataframe tbody tr th {\n",
       "        vertical-align: top;\n",
       "    }\n",
       "\n",
       "    .dataframe thead th {\n",
       "        text-align: right;\n",
       "    }\n",
       "</style>\n",
       "<table border=\"1\" class=\"dataframe\">\n",
       "  <thead>\n",
       "    <tr style=\"text-align: right;\">\n",
       "      <th></th>\n",
       "      <th>id</th>\n",
       "      <th>followers_count</th>\n",
       "      <th>friends_count</th>\n",
       "      <th>listed_count</th>\n",
       "      <th>favourites_count</th>\n",
       "      <th>statuses_count</th>\n",
       "      <th>bot</th>\n",
       "    </tr>\n",
       "  </thead>\n",
       "  <tbody>\n",
       "    <tr>\n",
       "      <th>count</th>\n",
       "      <td>2.797000e+03</td>\n",
       "      <td>2.797000e+03</td>\n",
       "      <td>2.797000e+03</td>\n",
       "      <td>2797.000000</td>\n",
       "      <td>2797.000000</td>\n",
       "      <td>2.797000e+03</td>\n",
       "      <td>2797.000000</td>\n",
       "    </tr>\n",
       "    <tr>\n",
       "      <th>mean</th>\n",
       "      <td>1.482460e+17</td>\n",
       "      <td>9.964245e+05</td>\n",
       "      <td>4.796493e+03</td>\n",
       "      <td>3192.299964</td>\n",
       "      <td>2035.577047</td>\n",
       "      <td>1.945170e+04</td>\n",
       "      <td>0.472292</td>\n",
       "    </tr>\n",
       "    <tr>\n",
       "      <th>std</th>\n",
       "      <td>3.100578e+17</td>\n",
       "      <td>5.593714e+06</td>\n",
       "      <td>5.619217e+04</td>\n",
       "      <td>17283.423291</td>\n",
       "      <td>16073.463967</td>\n",
       "      <td>1.543729e+05</td>\n",
       "      <td>0.499321</td>\n",
       "    </tr>\n",
       "    <tr>\n",
       "      <th>min</th>\n",
       "      <td>3.526000e+03</td>\n",
       "      <td>0.000000e+00</td>\n",
       "      <td>0.000000e+00</td>\n",
       "      <td>0.000000</td>\n",
       "      <td>0.000000</td>\n",
       "      <td>0.000000e+00</td>\n",
       "      <td>0.000000</td>\n",
       "    </tr>\n",
       "    <tr>\n",
       "      <th>25%</th>\n",
       "      <td>6.895649e+07</td>\n",
       "      <td>4.400000e+01</td>\n",
       "      <td>1.100000e+01</td>\n",
       "      <td>1.000000</td>\n",
       "      <td>0.000000</td>\n",
       "      <td>1.660000e+02</td>\n",
       "      <td>0.000000</td>\n",
       "    </tr>\n",
       "    <tr>\n",
       "      <th>50%</th>\n",
       "      <td>1.917035e+09</td>\n",
       "      <td>3.430000e+02</td>\n",
       "      <td>1.840000e+02</td>\n",
       "      <td>17.000000</td>\n",
       "      <td>25.000000</td>\n",
       "      <td>2.240000e+03</td>\n",
       "      <td>0.000000</td>\n",
       "    </tr>\n",
       "    <tr>\n",
       "      <th>75%</th>\n",
       "      <td>3.326332e+09</td>\n",
       "      <td>1.372500e+04</td>\n",
       "      <td>6.690000e+02</td>\n",
       "      <td>332.000000</td>\n",
       "      <td>491.000000</td>\n",
       "      <td>1.004200e+04</td>\n",
       "      <td>1.000000</td>\n",
       "    </tr>\n",
       "    <tr>\n",
       "      <th>max</th>\n",
       "      <td>8.410000e+17</td>\n",
       "      <td>9.632156e+07</td>\n",
       "      <td>2.056668e+06</td>\n",
       "      <td>620331.000000</td>\n",
       "      <td>714021.000000</td>\n",
       "      <td>6.863363e+06</td>\n",
       "      <td>1.000000</td>\n",
       "    </tr>\n",
       "  </tbody>\n",
       "</table>\n",
       "</div>"
      ],
      "text/plain": [
       "                 id  followers_count  friends_count   listed_count  \\\n",
       "count  2.797000e+03     2.797000e+03   2.797000e+03    2797.000000   \n",
       "mean   1.482460e+17     9.964245e+05   4.796493e+03    3192.299964   \n",
       "std    3.100578e+17     5.593714e+06   5.619217e+04   17283.423291   \n",
       "min    3.526000e+03     0.000000e+00   0.000000e+00       0.000000   \n",
       "25%    6.895649e+07     4.400000e+01   1.100000e+01       1.000000   \n",
       "50%    1.917035e+09     3.430000e+02   1.840000e+02      17.000000   \n",
       "75%    3.326332e+09     1.372500e+04   6.690000e+02     332.000000   \n",
       "max    8.410000e+17     9.632156e+07   2.056668e+06  620331.000000   \n",
       "\n",
       "       favourites_count  statuses_count          bot  \n",
       "count       2797.000000    2.797000e+03  2797.000000  \n",
       "mean        2035.577047    1.945170e+04     0.472292  \n",
       "std        16073.463967    1.543729e+05     0.499321  \n",
       "min            0.000000    0.000000e+00     0.000000  \n",
       "25%            0.000000    1.660000e+02     0.000000  \n",
       "50%           25.000000    2.240000e+03     0.000000  \n",
       "75%          491.000000    1.004200e+04     1.000000  \n",
       "max       714021.000000    6.863363e+06     1.000000  "
      ]
     },
     "execution_count": 703,
     "metadata": {},
     "output_type": "execute_result"
    }
   ],
   "source": [
    "training_data.describe()"
   ]
  },
  {
   "cell_type": "code",
   "execution_count": 704,
   "metadata": {},
   "outputs": [
    {
     "data": {
      "text/plain": [
       "<matplotlib.axes._subplots.AxesSubplot at 0x25048d3a7f0>"
      ]
     },
     "execution_count": 704,
     "metadata": {},
     "output_type": "execute_result"
    },
    {
     "data": {
      "image/png": "[encoded data removed]",
      "text/plain": [
       "<Figure size 1152x864 with 2 Axes>"
      ]
     },
     "metadata": {
      "needs_background": "light"
     },
     "output_type": "display_data"
    }
   ],
   "source": [
    "features = ['id', 'id_str', 'screen_name', 'location', 'description', 'url',\n",
    "       'followers_count', 'friends_count', 'listed_count', 'created_at',\n",
    "       'favourites_count', 'verified', 'statuses_count', 'lang', 'status',\n",
    "       'default_profile', 'default_profile_image', 'has_extended_profile',\n",
    "       'name', 'bot']\n",
    "\n",
    "mask = np.zeros_like(training_data[features].corr(), dtype = np.bool) \n",
    "mask[np.triu_indices_from(mask)] = True \n",
    "\n",
    "f, ax = plt.subplots(figsize=(16, 12))\n",
    "plt.title('Pearson Correlation Matrix',fontsize=25)\n",
    "\n",
    "sns.heatmap(training_data[features].corr(),linewidths = 0.25,vmax = 0.7,square = True,cmap = \"BuGn\", \n",
    "            linecolor = 'w',annot = True,annot_kws = {\"size\":8},mask = mask,cbar_kws = {\"shrink\": 0.9})"
   ]
  },
  {
   "cell_type": "code",
   "execution_count": 705,
   "metadata": {},
   "outputs": [],
   "source": [
    "training_data.drop(['id_str', 'screen_name', 'location', 'description', 'url', 'created_at', 'lang', 'status','default_profile', 'default_profile_image', 'has_extended_profile','name'],axis=1,inplace=True)"
   ]
  },
  {
   "cell_type": "code",
   "execution_count": 706,
   "metadata": {},
   "outputs": [
    {
     "data": {
      "text/html": [
       "<div>\n",
       "<style scoped>\n",
       "    .dataframe tbody tr th:only-of-type {\n",
       "        vertical-align: middle;\n",
       "    }\n",
       "\n",
       "    .dataframe tbody tr th {\n",
       "        vertical-align: top;\n",
       "    }\n",
       "\n",
       "    .dataframe thead th {\n",
       "        text-align: right;\n",
       "    }\n",
       "</style>\n",
       "<table border=\"1\" class=\"dataframe\">\n",
       "  <thead>\n",
       "    <tr style=\"text-align: right;\">\n",
       "      <th></th>\n",
       "      <th>id</th>\n",
       "      <th>followers_count</th>\n",
       "      <th>friends_count</th>\n",
       "      <th>listed_count</th>\n",
       "      <th>favourites_count</th>\n",
       "      <th>verified</th>\n",
       "      <th>statuses_count</th>\n",
       "      <th>bot</th>\n",
       "    </tr>\n",
       "  </thead>\n",
       "  <tbody>\n",
       "    <tr>\n",
       "      <th>0</th>\n",
       "      <td>8.160000e+17</td>\n",
       "      <td>1291</td>\n",
       "      <td>0</td>\n",
       "      <td>10</td>\n",
       "      <td>0</td>\n",
       "      <td>False</td>\n",
       "      <td>78554</td>\n",
       "      <td>1</td>\n",
       "    </tr>\n",
       "    <tr>\n",
       "      <th>1</th>\n",
       "      <td>4.843621e+09</td>\n",
       "      <td>1</td>\n",
       "      <td>349</td>\n",
       "      <td>0</td>\n",
       "      <td>38</td>\n",
       "      <td>False</td>\n",
       "      <td>31</td>\n",
       "      <td>1</td>\n",
       "    </tr>\n",
       "    <tr>\n",
       "      <th>2</th>\n",
       "      <td>4.303727e+09</td>\n",
       "      <td>1086</td>\n",
       "      <td>0</td>\n",
       "      <td>14</td>\n",
       "      <td>0</td>\n",
       "      <td>False</td>\n",
       "      <td>713</td>\n",
       "      <td>1</td>\n",
       "    </tr>\n",
       "    <tr>\n",
       "      <th>3</th>\n",
       "      <td>3.063139e+09</td>\n",
       "      <td>33</td>\n",
       "      <td>0</td>\n",
       "      <td>8</td>\n",
       "      <td>0</td>\n",
       "      <td>False</td>\n",
       "      <td>676</td>\n",
       "      <td>1</td>\n",
       "    </tr>\n",
       "    <tr>\n",
       "      <th>4</th>\n",
       "      <td>2.955142e+09</td>\n",
       "      <td>11</td>\n",
       "      <td>745</td>\n",
       "      <td>0</td>\n",
       "      <td>146</td>\n",
       "      <td>False</td>\n",
       "      <td>185</td>\n",
       "      <td>1</td>\n",
       "    </tr>\n",
       "  </tbody>\n",
       "</table>\n",
       "</div>"
      ],
      "text/plain": [
       "             id  followers_count  friends_count  listed_count  \\\n",
       "0  8.160000e+17             1291              0            10   \n",
       "1  4.843621e+09                1            349             0   \n",
       "2  4.303727e+09             1086              0            14   \n",
       "3  3.063139e+09               33              0             8   \n",
       "4  2.955142e+09               11            745             0   \n",
       "\n",
       "   favourites_count  verified  statuses_count  bot  \n",
       "0                 0     False           78554    1  \n",
       "1                38     False              31    1  \n",
       "2                 0     False             713    1  \n",
       "3                 0     False             676    1  \n",
       "4               146     False             185    1  "
      ]
     },
     "execution_count": 706,
     "metadata": {},
     "output_type": "execute_result"
    }
   ],
   "source": [
    "training_data.head(5)"
   ]
  },
  {
   "cell_type": "code",
   "execution_count": 707,
   "metadata": {},
   "outputs": [
    {
     "data": {
      "text/plain": [
       "id                  0\n",
       "followers_count     0\n",
       "friends_count       0\n",
       "listed_count        0\n",
       "favourites_count    0\n",
       "verified            0\n",
       "statuses_count      0\n",
       "bot                 0\n",
       "dtype: int64"
      ]
     },
     "execution_count": 707,
     "metadata": {},
     "output_type": "execute_result"
    }
   ],
   "source": [
    "training_data.isna().sum()"
   ]
  },
  {
   "cell_type": "code",
   "execution_count": 708,
   "metadata": {},
   "outputs": [
    {
     "data": {
      "text/plain": [
       "(2797, 8)"
      ]
     },
     "execution_count": 708,
     "metadata": {},
     "output_type": "execute_result"
    }
   ],
   "source": [
    "training_data.shape"
   ]
  },
  {
   "cell_type": "code",
   "execution_count": 709,
   "metadata": {},
   "outputs": [
    {
     "data": {
      "text/html": [
       "<div>\n",
       "<style scoped>\n",
       "    .dataframe tbody tr th:only-of-type {\n",
       "        vertical-align: middle;\n",
       "    }\n",
       "\n",
       "    .dataframe tbody tr th {\n",
       "        vertical-align: top;\n",
       "    }\n",
       "\n",
       "    .dataframe thead th {\n",
       "        text-align: right;\n",
       "    }\n",
       "</style>\n",
       "<table border=\"1\" class=\"dataframe\">\n",
       "  <thead>\n",
       "    <tr style=\"text-align: right;\">\n",
       "      <th></th>\n",
       "      <th>id</th>\n",
       "      <th>followers_count</th>\n",
       "      <th>friends_count</th>\n",
       "      <th>listed_count</th>\n",
       "      <th>favourites_count</th>\n",
       "      <th>verified</th>\n",
       "      <th>statuses_count</th>\n",
       "      <th>bot</th>\n",
       "    </tr>\n",
       "  </thead>\n",
       "  <tbody>\n",
       "    <tr>\n",
       "      <th>id</th>\n",
       "      <td>1.000000</td>\n",
       "      <td>-0.672925</td>\n",
       "      <td>-0.402346</td>\n",
       "      <td>-0.615005</td>\n",
       "      <td>-0.439430</td>\n",
       "      <td>-0.611899</td>\n",
       "      <td>-0.451945</td>\n",
       "      <td>0.652131</td>\n",
       "    </tr>\n",
       "    <tr>\n",
       "      <th>followers_count</th>\n",
       "      <td>-0.672925</td>\n",
       "      <td>1.000000</td>\n",
       "      <td>0.375522</td>\n",
       "      <td>0.896126</td>\n",
       "      <td>0.457363</td>\n",
       "      <td>0.709732</td>\n",
       "      <td>0.649117</td>\n",
       "      <td>-0.468430</td>\n",
       "    </tr>\n",
       "    <tr>\n",
       "      <th>friends_count</th>\n",
       "      <td>-0.402346</td>\n",
       "      <td>0.375522</td>\n",
       "      <td>1.000000</td>\n",
       "      <td>0.204403</td>\n",
       "      <td>0.641529</td>\n",
       "      <td>0.356452</td>\n",
       "      <td>0.111118</td>\n",
       "      <td>-0.483105</td>\n",
       "    </tr>\n",
       "    <tr>\n",
       "      <th>listed_count</th>\n",
       "      <td>-0.615005</td>\n",
       "      <td>0.896126</td>\n",
       "      <td>0.204403</td>\n",
       "      <td>1.000000</td>\n",
       "      <td>0.349059</td>\n",
       "      <td>0.694340</td>\n",
       "      <td>0.684976</td>\n",
       "      <td>-0.318445</td>\n",
       "    </tr>\n",
       "    <tr>\n",
       "      <th>favourites_count</th>\n",
       "      <td>-0.439430</td>\n",
       "      <td>0.457363</td>\n",
       "      <td>0.641529</td>\n",
       "      <td>0.349059</td>\n",
       "      <td>1.000000</td>\n",
       "      <td>0.394227</td>\n",
       "      <td>0.295108</td>\n",
       "      <td>-0.526228</td>\n",
       "    </tr>\n",
       "    <tr>\n",
       "      <th>verified</th>\n",
       "      <td>-0.611899</td>\n",
       "      <td>0.709732</td>\n",
       "      <td>0.356452</td>\n",
       "      <td>0.694340</td>\n",
       "      <td>0.394227</td>\n",
       "      <td>1.000000</td>\n",
       "      <td>0.333278</td>\n",
       "      <td>-0.508555</td>\n",
       "    </tr>\n",
       "    <tr>\n",
       "      <th>statuses_count</th>\n",
       "      <td>-0.451945</td>\n",
       "      <td>0.649117</td>\n",
       "      <td>0.111118</td>\n",
       "      <td>0.684976</td>\n",
       "      <td>0.295108</td>\n",
       "      <td>0.333278</td>\n",
       "      <td>1.000000</td>\n",
       "      <td>-0.089018</td>\n",
       "    </tr>\n",
       "    <tr>\n",
       "      <th>bot</th>\n",
       "      <td>0.652131</td>\n",
       "      <td>-0.468430</td>\n",
       "      <td>-0.483105</td>\n",
       "      <td>-0.318445</td>\n",
       "      <td>-0.526228</td>\n",
       "      <td>-0.508555</td>\n",
       "      <td>-0.089018</td>\n",
       "      <td>1.000000</td>\n",
       "    </tr>\n",
       "  </tbody>\n",
       "</table>\n",
       "</div>"
      ],
      "text/plain": [
       "                        id  followers_count  friends_count  listed_count  \\\n",
       "id                1.000000        -0.672925      -0.402346     -0.615005   \n",
       "followers_count  -0.672925         1.000000       0.375522      0.896126   \n",
       "friends_count    -0.402346         0.375522       1.000000      0.204403   \n",
       "listed_count     -0.615005         0.896126       0.204403      1.000000   \n",
       "favourites_count -0.439430         0.457363       0.641529      0.349059   \n",
       "verified         -0.611899         0.709732       0.356452      0.694340   \n",
       "statuses_count   -0.451945         0.649117       0.111118      0.684976   \n",
       "bot               0.652131        -0.468430      -0.483105     -0.318445   \n",
       "\n",
       "                  favourites_count  verified  statuses_count       bot  \n",
       "id                       -0.439430 -0.611899       -0.451945  0.652131  \n",
       "followers_count           0.457363  0.709732        0.649117 -0.468430  \n",
       "friends_count             0.641529  0.356452        0.111118 -0.483105  \n",
       "listed_count              0.349059  0.694340        0.684976 -0.318445  \n",
       "favourites_count          1.000000  0.394227        0.295108 -0.526228  \n",
       "verified                  0.394227  1.000000        0.333278 -0.508555  \n",
       "statuses_count            0.295108  0.333278        1.000000 -0.089018  \n",
       "bot                      -0.526228 -0.508555       -0.089018  1.000000  "
      ]
     },
     "execution_count": 709,
     "metadata": {},
     "output_type": "execute_result"
    }
   ],
   "source": [
    "training_data.corr(method='spearman')"
   ]
  },
  {
   "cell_type": "code",
   "execution_count": null,
   "metadata": {},
   "outputs": [],
   "source": []
  },
  {
   "cell_type": "code",
   "execution_count": 710,
   "metadata": {},
   "outputs": [
    {
     "data": {
      "image/png": "[encoded data removed]",
      "text/plain": [
       "<Figure size 360x360 with 1 Axes>"
      ]
     },
     "metadata": {
      "needs_background": "light"
     },
     "output_type": "display_data"
    },
    {
     "data": {
      "image/png": "[encoded data removed]",
      "text/plain": [
       "<Figure size 360x360 with 1 Axes>"
      ]
     },
     "metadata": {
      "needs_background": "light"
     },
     "output_type": "display_data"
    },
    {
     "data": {
      "image/png": "[encoded data removed]",
      "text/plain": [
       "<Figure size 360x360 with 1 Axes>"
      ]
     },
     "metadata": {
      "needs_background": "light"
     },
     "output_type": "display_data"
    }
   ],
   "source": [
    "sns.catplot(x=\"bot\", y=\"followers_count\", data=training_data);\n",
    "sns.catplot(x=\"bot\", y=\"friends_count\", data=training_data);\n",
    "sns.catplot(x=\"bot\", y=\"listed_count\", data=training_data);"
   ]
  },
  {
   "cell_type": "code",
   "execution_count": 711,
   "metadata": {},
   "outputs": [
    {
     "data": {
      "image/png": "[encoded data removed]",
      "text/plain": [
       "<Figure size 360x360 with 1 Axes>"
      ]
     },
     "metadata": {
      "needs_background": "light"
     },
     "output_type": "display_data"
    },
    {
     "data": {
      "image/png": "[encoded data removed]",
      "text/plain": [
       "<Figure size 360x360 with 1 Axes>"
      ]
     },
     "metadata": {
      "needs_background": "light"
     },
     "output_type": "display_data"
    },
    {
     "data": {
      "image/png": "[encoded data removed]",
      "text/plain": [
       "<Figure size 360x360 with 1 Axes>"
      ]
     },
     "metadata": {
      "needs_background": "light"
     },
     "output_type": "display_data"
    }
   ],
   "source": [
    "sns.catplot(x=\"bot\", y=\"favourites_count\", data=training_data);\n",
    "sns.catplot(x=\"bot\", y=\"verified\", data=training_data);\n",
    "sns.catplot(x=\"bot\", y=\"statuses_count\", data=training_data);"
   ]
  },
  {
   "cell_type": "code",
   "execution_count": 712,
   "metadata": {},
   "outputs": [],
   "source": [
    "X = training_data.iloc[:, :-1].values\n",
    "y = training_data.iloc[:, 7].values"
   ]
  },
  {
   "cell_type": "code",
   "execution_count": 713,
   "metadata": {},
   "outputs": [
    {
     "name": "stdout",
     "output_type": "stream",
     "text": [
      "[[8.16e+17 1291 0 ... 0 0 78554]\n",
      " [4843621225.0 1 349 ... 38 0 31]\n",
      " [4303727112.0 1086 0 ... 0 0 713]\n",
      " ...\n",
      " [15485441.0 45044433 7451 ... 24 1 9606]\n",
      " [751386872.0 16 64 ... 15 0 62]\n",
      " [19929362.0 22490 308 ... 43 1 1897]]\n"
     ]
    }
   ],
   "source": [
    "from sklearn.preprocessing import LabelEncoder, OneHotEncoder\n",
    "Labelx=LabelEncoder()\n",
    "X[:,5]=Labelx.fit_transform(X[:,5])\n",
    "print(X)"
   ]
  },
  {
   "cell_type": "markdown",
   "metadata": {},
   "source": [
    "# Random Forest"
   ]
  },
  {
   "cell_type": "code",
   "execution_count": 714,
   "metadata": {},
   "outputs": [],
   "source": [
    "#feature scaling\n",
    "from sklearn.preprocessing import StandardScaler\n",
    "sc_X = StandardScaler()\n",
    "X = sc_X.fit_transform(X)"
   ]
  },
  {
   "cell_type": "code",
   "execution_count": 715,
   "metadata": {},
   "outputs": [
    {
     "data": {
      "text/plain": [
       "RandomForestClassifier(bootstrap=True, ccp_alpha=0.0, class_weight=None,\n",
       "                       criterion='entropy', max_depth=None, max_features='auto',\n",
       "                       max_leaf_nodes=None, max_samples=None,\n",
       "                       min_impurity_decrease=0.0, min_impurity_split=None,\n",
       "                       min_samples_leaf=1, min_samples_split=2,\n",
       "                       min_weight_fraction_leaf=0.0, n_estimators=10,\n",
       "                       n_jobs=None, oob_score=False, random_state=0, verbose=0,\n",
       "                       warm_start=False)"
      ]
     },
     "execution_count": 715,
     "metadata": {},
     "output_type": "execute_result"
    }
   ],
   "source": [
    "#fitting\n",
    "from sklearn.ensemble import RandomForestClassifier as rf\n",
    "classifier= rf(n_estimators=10,criterion='entropy',random_state=0)\n",
    "classifier.fit(X,y)"
   ]
  },
  {
   "cell_type": "code",
   "execution_count": 716,
   "metadata": {},
   "outputs": [],
   "source": [
    "bots = training_data[training_data.bot==1]"
   ]
  },
  {
   "cell_type": "code",
   "execution_count": 717,
   "metadata": {},
   "outputs": [],
   "source": [
    "B = bots.iloc[:,:-1]\n",
    "B_y = bots.iloc[:,7]"
   ]
  },
  {
   "cell_type": "code",
   "execution_count": 718,
   "metadata": {},
   "outputs": [],
   "source": [
    "B_pred = classifier.predict(B)"
   ]
  },
  {
   "cell_type": "code",
   "execution_count": 719,
   "metadata": {},
   "outputs": [],
   "source": [
    "#Confusionmatrix\n",
    "from sklearn.metrics import confusion_matrix\n",
    "cm=confusion_matrix(B_y,B_pred)"
   ]
  },
  {
   "cell_type": "code",
   "execution_count": 720,
   "metadata": {},
   "outputs": [
    {
     "name": "stdout",
     "output_type": "stream",
     "text": [
      "[[  0   0]\n",
      " [528 793]]\n"
     ]
    }
   ],
   "source": [
    "print(cm)"
   ]
  },
  {
   "cell_type": "code",
   "execution_count": 721,
   "metadata": {},
   "outputs": [
    {
     "name": "stdout",
     "output_type": "stream",
     "text": [
      "Accuracy is 60.0303%\n",
      " Precision is 100.0000%\n",
      " Recall is 60.0303%\n",
      "F1 Score is 0.7502\n",
      "\n"
     ]
    }
   ],
   "source": [
    "Performance(B_y,B_pred)"
   ]
  },
  {
   "cell_type": "code",
   "execution_count": 722,
   "metadata": {},
   "outputs": [],
   "source": [
    "nbots = training_data[training_data.bot==0]\n",
    "NB = nbots.iloc[:,:-1]\n",
    "NB_y = nbots.iloc[:,7]"
   ]
  },
  {
   "cell_type": "code",
   "execution_count": 723,
   "metadata": {},
   "outputs": [],
   "source": [
    "NB_pred = classifier.predict(NB)"
   ]
  },
  {
   "cell_type": "code",
   "execution_count": null,
   "metadata": {},
   "outputs": [],
   "source": []
  },
  {
   "cell_type": "code",
   "execution_count": 724,
   "metadata": {},
   "outputs": [
    {
     "name": "stdout",
     "output_type": "stream",
     "text": [
      "[[  0   0]\n",
      " [528 793]]\n"
     ]
    }
   ],
   "source": [
    "print(cm)"
   ]
  },
  {
   "cell_type": "code",
   "execution_count": 725,
   "metadata": {},
   "outputs": [
    {
     "name": "stdout",
     "output_type": "stream",
     "text": [
      "Accuracy is 61.2466%\n",
      " Precision is 0.0000%\n",
      " Recall is 0.0000%\n",
      "F1 Score is 0.4653\n",
      "\n"
     ]
    }
   ],
   "source": [
    "Performance(NB_pred,NB_y)"
   ]
  },
  {
   "cell_type": "markdown",
   "metadata": {},
   "source": [
    "# Decision Tree Regression"
   ]
  },
  {
   "cell_type": "code",
   "execution_count": 726,
   "metadata": {},
   "outputs": [
    {
     "data": {
      "text/plain": [
       "DecisionTreeRegressor(ccp_alpha=0.0, criterion='mse', max_depth=None,\n",
       "                      max_features=None, max_leaf_nodes=None,\n",
       "                      min_impurity_decrease=0.0, min_impurity_split=None,\n",
       "                      min_samples_leaf=1, min_samples_split=2,\n",
       "                      min_weight_fraction_leaf=0.0, presort='deprecated',\n",
       "                      random_state=0, splitter='best')"
      ]
     },
     "execution_count": 726,
     "metadata": {},
     "output_type": "execute_result"
    }
   ],
   "source": [
    "from sklearn.tree import DecisionTreeRegressor as DTR\n",
    "classifier= DTR(random_state=0)\n",
    "classifier.fit(X,y)"
   ]
  },
  {
   "cell_type": "code",
   "execution_count": 727,
   "metadata": {},
   "outputs": [],
   "source": [
    "B_pred = classifier.predict(B)"
   ]
  },
  {
   "cell_type": "code",
   "execution_count": 728,
   "metadata": {},
   "outputs": [
    {
     "name": "stdout",
     "output_type": "stream",
     "text": [
      "[[   0    0]\n",
      " [1313    8]]\n"
     ]
    }
   ],
   "source": [
    "#Confusionmatrix\n",
    "from sklearn.metrics import confusion_matrix\n",
    "cm=confusion_matrix(B_y,B_pred)\n",
    "print(cm)"
   ]
  },
  {
   "cell_type": "code",
   "execution_count": 729,
   "metadata": {},
   "outputs": [
    {
     "name": "stdout",
     "output_type": "stream",
     "text": [
      "Accuracy is 0.6056%\n",
      " Precision is 100.0000%\n",
      " Recall is 0.6056%\n",
      "F1 Score is 0.0120\n",
      "\n"
     ]
    }
   ],
   "source": [
    "Performance(B_y,B_pred)"
   ]
  },
  {
   "cell_type": "code",
   "execution_count": 730,
   "metadata": {},
   "outputs": [],
   "source": [
    "NB_pred = classifier.predict(NB)"
   ]
  },
  {
   "cell_type": "code",
   "execution_count": 731,
   "metadata": {},
   "outputs": [
    {
     "name": "stdout",
     "output_type": "stream",
     "text": [
      "[[831 645]\n",
      " [  0   0]]\n"
     ]
    }
   ],
   "source": [
    "#Confusionmatrix\n",
    "from sklearn.metrics import confusion_matrix\n",
    "cm=confusion_matrix(NB_y,NB_pred)\n",
    "print(cm)"
   ]
  },
  {
   "cell_type": "code",
   "execution_count": 732,
   "metadata": {},
   "outputs": [
    {
     "name": "stdout",
     "output_type": "stream",
     "text": [
      "Accuracy is 56.3008%\n",
      " Precision is 0.0000%\n",
      " Recall is 0.0000%\n",
      "F1 Score is 0.7204\n",
      "\n"
     ]
    }
   ],
   "source": [
    "Performance(NB_y,NB_pred)"
   ]
  },
  {
   "cell_type": "markdown",
   "metadata": {},
   "source": [
    "# "
   ]
  },
  {
   "cell_type": "code",
   "execution_count": 733,
   "metadata": {},
   "outputs": [
    {
     "data": {
      "text/plain": [
       "SVC(C=1.0, break_ties=False, cache_size=200, class_weight=None, coef0=0.0,\n",
       "    decision_function_shape='ovr', degree=3, gamma='scale', kernel='linear',\n",
       "    max_iter=-1, probability=False, random_state=0, shrinking=True, tol=0.001,\n",
       "    verbose=False)"
      ]
     },
     "execution_count": 733,
     "metadata": {},
     "output_type": "execute_result"
    }
   ],
   "source": [
    "from sklearn.svm import SVC\n",
    "classifier=SVC(kernel='linear', random_state=0)\n",
    "classifier.fit(X,y)"
   ]
  },
  {
   "cell_type": "code",
   "execution_count": null,
   "metadata": {},
   "outputs": [],
   "source": []
  },
  {
   "cell_type": "code",
   "execution_count": null,
   "metadata": {},
   "outputs": [],
   "source": []
  },
  {
   "cell_type": "code",
   "execution_count": 695,
   "metadata": {},
   "outputs": [
    {
     "name": "stdout",
     "output_type": "stream",
     "text": [
      "                 0           1       2        3       4    5        6    7\n",
      "0     8.160000e+17      1291.0     0.0     10.0     0.0  0.0  78554.0  1.0\n",
      "1     4.843621e+09         1.0   349.0      0.0    38.0  0.0     31.0  1.0\n",
      "2     4.303727e+09      1086.0     0.0     14.0     0.0  0.0    713.0  1.0\n",
      "3     3.063139e+09        33.0     0.0      8.0     0.0  0.0    676.0  1.0\n",
      "4     2.955142e+09        11.0   745.0      0.0   146.0  0.0    185.0  1.0\n",
      "...            ...         ...     ...      ...     ...  ...      ...  ...\n",
      "2792  2.362091e+08     18998.0  2005.0    425.0  2503.0  0.0   3498.0  0.0\n",
      "2793  2.545039e+08        32.0    54.0      0.0     1.0  0.0     97.0  0.0\n",
      "2794  1.548544e+07  45044433.0  7451.0  68157.0    24.0  1.0   9606.0  0.0\n",
      "2795  7.513869e+08        16.0    64.0      1.0    15.0  0.0     62.0  0.0\n",
      "2796  1.992936e+07     22490.0   308.0   1342.0    43.0  1.0   1897.0  0.0\n",
      "\n",
      "[2797 rows x 8 columns]\n"
     ]
    }
   ],
   "source": [
    "print(result)"
   ]
  },
  {
   "cell_type": "code",
   "execution_count": 696,
   "metadata": {},
   "outputs": [],
   "source": [
    "\n",
    "import pandas as pd\n",
    "import numpy as np\n",
    "from sklearn.model_selection import train_test_split, KFold\n",
    "from sklearn.metrics import accuracy_score\n",
    "from sklearn.metrics import precision_score\n",
    "from sklearn.metrics import recall_score\n",
    "from sklearn.metrics import f1_score\n",
    "from sklearn.metrics import roc_auc_score\n",
    "from sklearn import tree, metrics\n",
    "from sklearn.linear_model import LogisticRegression\n",
    "from sklearn.naive_bayes import GaussianNB\n",
    "from sklearn.impute import SimpleImputer\n",
    "import matplotlib.pyplot as plt\n",
    "import random\n",
    "import matplotlib.pyplot as plt\n",
    "import seaborn as sns\n",
    "from mpl_toolkits.mplot3d import Axes3D\n",
    "%matplotlib inline"
   ]
  },
  {
   "cell_type": "code",
   "execution_count": null,
   "metadata": {},
   "outputs": [],
   "source": []
  },
  {
   "cell_type": "code",
   "execution_count": null,
   "metadata": {},
   "outputs": [],
   "source": []
  }
 ],
 "metadata": {
  "kernelspec": {
   "display_name": "Python 3",
   "language": "python",
   "name": "python3"
  },
  "language_info": {
   "codemirror_mode": {
    "name": "ipython",
    "version": 3
   },
   "file_extension": ".py",
   "mimetype": "text/x-python",
   "name": "python",
   "nbconvert_exporter": "python",
   "pygments_lexer": "ipython3",
   "version": "3.7.1"
  }
 },
 "nbformat": 4,
 "nbformat_minor": 4
}
