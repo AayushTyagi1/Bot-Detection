{
 "cells": [
  {
   "cell_type": "markdown",
   "metadata": {},
   "source": [
    "# Twitter bot Detection\n",
    "## -Aayush Tyagi 2013206"
   ]
  },
  {
   "cell_type": "code",
   "execution_count": 1,
   "metadata": {},
   "outputs": [],
   "source": [
    "# Import Libraries\n",
    "import numpy as np\n",
    "import pandas as pd\n",
    "import matplotlib.pyplot as plt\n",
    "import seaborn as sns\n",
    "import sys\n",
    "import warnings\n",
    "if not sys.warnoptions:\n",
    "    warnings.simplefilter(\"ignore\")"
   ]
  },
  {
   "cell_type": "code",
   "execution_count": 2,
   "metadata": {},
   "outputs": [],
   "source": [
    "#To check Performances\n",
    "from sklearn.metrics import accuracy_score\n",
    "from sklearn.metrics import precision_score\n",
    "from sklearn.metrics import recall_score\n",
    "from sklearn.metrics import f1_score"
   ]
  },
  {
   "cell_type": "code",
   "execution_count": 3,
   "metadata": {},
   "outputs": [],
   "source": [
    "def Performance(actual_value , predicted_value):\n",
    "    accuracy = accuracy_score(actual_value , predicted_value) * 100\n",
    "    precision = precision_score(actual_value , predicted_value) * 100\n",
    "    recall = recall_score(actual_value , predicted_value) * 100\n",
    "    f1 = f1_score(actual_value , predicted_value, average='weighted')\n",
    "    print('Accuracy is {:.4f}%\\n Precision is {:.4f}%\\n Recall is {:.4f}%\\nF1 Score is {:.4f}\\n'.format(accuracy, precision, recall, f1))"
   ]
  },
  {
   "cell_type": "code",
   "execution_count": 4,
   "metadata": {},
   "outputs": [],
   "source": [
    "# Set Data\n",
    "training_data = pd.read_csv(\"training_data_2_csv_UTF.csv\")\n",
    "bots = training_data[training_data.bot==1]\n",
    "Nbots = training_data[training_data.bot==0]"
   ]
  },
  {
   "cell_type": "code",
   "execution_count": 5,
   "metadata": {},
   "outputs": [
    {
     "data": {
      "image/png": "[encoded data removed]",
      "text/plain": [
       "<Figure size 720x360 with 2 Axes>"
      ]
     },
     "metadata": {
      "needs_background": "light"
     },
     "output_type": "display_data"
    }
   ],
   "source": [
    "plt.figure(figsize=(10,5))\n",
    "plt.subplot(2,1,1)\n",
    "plt.title('Bots Friends vs Followers')\n",
    "sns.regplot(bots.friends_count, bots.followers_count, color='red', label='Bots')\n",
    "plt.xlim(0, 100)\n",
    "plt.ylim(0, 100)\n",
    "plt.tight_layout()\n",
    "\n",
    "plt.subplot(2,1,2)\n",
    "plt.title('NonBots Friends vs Followers')\n",
    "sns.regplot(Nbots.friends_count, Nbots.followers_count, color='blue', label='NonBots')\n",
    "plt.xlim(0, 100)\n",
    "plt.ylim(0, 100)\n",
    "\n",
    "plt.tight_layout()\n",
    "plt.show()"
   ]
  },
  {
   "cell_type": "code",
   "execution_count": 6,
   "metadata": {},
   "outputs": [
    {
     "data": {
      "text/plain": [
       "Index(['id', 'id_str', 'screen_name', 'location', 'description', 'url',\n",
       "       'followers_count', 'friends_count', 'listed_count', 'created_at',\n",
       "       'favourites_count', 'verified', 'statuses_count', 'lang', 'status',\n",
       "       'default_profile', 'default_profile_image', 'has_extended_profile',\n",
       "       'name', 'bot'],\n",
       "      dtype='object')"
      ]
     },
     "execution_count": 6,
     "metadata": {},
     "output_type": "execute_result"
    }
   ],
   "source": [
    "training_data.columns"
   ]
  },
  {
   "cell_type": "code",
   "execution_count": 7,
   "metadata": {},
   "outputs": [
    {
     "data": {
      "text/html": [
       "<div>\n",
       "<style scoped>\n",
       "    .dataframe tbody tr th:only-of-type {\n",
       "        vertical-align: middle;\n",
       "    }\n",
       "\n",
       "    .dataframe tbody tr th {\n",
       "        vertical-align: top;\n",
       "    }\n",
       "\n",
       "    .dataframe thead th {\n",
       "        text-align: right;\n",
       "    }\n",
       "</style>\n",
       "<table border=\"1\" class=\"dataframe\">\n",
       "  <thead>\n",
       "    <tr style=\"text-align: right;\">\n",
       "      <th></th>\n",
       "      <th>id</th>\n",
       "      <th>id_str</th>\n",
       "      <th>screen_name</th>\n",
       "      <th>location</th>\n",
       "      <th>description</th>\n",
       "      <th>url</th>\n",
       "      <th>followers_count</th>\n",
       "      <th>friends_count</th>\n",
       "      <th>listed_count</th>\n",
       "      <th>created_at</th>\n",
       "      <th>favourites_count</th>\n",
       "      <th>verified</th>\n",
       "      <th>statuses_count</th>\n",
       "      <th>lang</th>\n",
       "      <th>status</th>\n",
       "      <th>default_profile</th>\n",
       "      <th>default_profile_image</th>\n",
       "      <th>has_extended_profile</th>\n",
       "      <th>name</th>\n",
       "      <th>bot</th>\n",
       "    </tr>\n",
       "  </thead>\n",
       "  <tbody>\n",
       "    <tr>\n",
       "      <th>0</th>\n",
       "      <td>8.160000e+17</td>\n",
       "      <td>\"815745789754417152\"</td>\n",
       "      <td>\"HoustonPokeMap\"</td>\n",
       "      <td>\"Houston, TX\"</td>\n",
       "      <td>\"Rare and strong PokŽmon in Houston, TX. See m...</td>\n",
       "      <td>\"https://t.co/dnWuDbFRkt\"</td>\n",
       "      <td>1291</td>\n",
       "      <td>0</td>\n",
       "      <td>10</td>\n",
       "      <td>\"Mon Jan 02 02:25:26 +0000 2017\"</td>\n",
       "      <td>0</td>\n",
       "      <td>False</td>\n",
       "      <td>78554</td>\n",
       "      <td>\"en\"</td>\n",
       "      <td>{\\r      \"created_at\": \"Sun Mar 12 15:44:04 +0...</td>\n",
       "      <td>True</td>\n",
       "      <td>False</td>\n",
       "      <td>False</td>\n",
       "      <td>\"Houston PokŽ Alert\"</td>\n",
       "      <td>1</td>\n",
       "    </tr>\n",
       "    <tr>\n",
       "      <th>1</th>\n",
       "      <td>4.843621e+09</td>\n",
       "      <td>4843621225</td>\n",
       "      <td>kernyeahx</td>\n",
       "      <td>Templeville town, MD, USA</td>\n",
       "      <td>From late 2014 Socium Marketplace will make sh...</td>\n",
       "      <td>NaN</td>\n",
       "      <td>1</td>\n",
       "      <td>349</td>\n",
       "      <td>0</td>\n",
       "      <td>2/1/2016 7:37</td>\n",
       "      <td>38</td>\n",
       "      <td>False</td>\n",
       "      <td>31</td>\n",
       "      <td>en</td>\n",
       "      <td>NaN</td>\n",
       "      <td>True</td>\n",
       "      <td>False</td>\n",
       "      <td>False</td>\n",
       "      <td>Keri Nelson</td>\n",
       "      <td>1</td>\n",
       "    </tr>\n",
       "    <tr>\n",
       "      <th>2</th>\n",
       "      <td>4.303727e+09</td>\n",
       "      <td>4303727112</td>\n",
       "      <td>mattlieberisbot</td>\n",
       "      <td>NaN</td>\n",
       "      <td>Inspired by the smart, funny folks at @replyal...</td>\n",
       "      <td>https://t.co/P1e1o0m4KC</td>\n",
       "      <td>1086</td>\n",
       "      <td>0</td>\n",
       "      <td>14</td>\n",
       "      <td>Fri Nov 20 18:53:22 +0000 2015</td>\n",
       "      <td>0</td>\n",
       "      <td>False</td>\n",
       "      <td>713</td>\n",
       "      <td>en</td>\n",
       "      <td>{'retweeted': False, 'is_quote_status': False,...</td>\n",
       "      <td>True</td>\n",
       "      <td>False</td>\n",
       "      <td>False</td>\n",
       "      <td>Matt Lieber Is Bot</td>\n",
       "      <td>1</td>\n",
       "    </tr>\n",
       "    <tr>\n",
       "      <th>3</th>\n",
       "      <td>3.063139e+09</td>\n",
       "      <td>3063139353</td>\n",
       "      <td>sc_papers</td>\n",
       "      <td>NaN</td>\n",
       "      <td>NaN</td>\n",
       "      <td>NaN</td>\n",
       "      <td>33</td>\n",
       "      <td>0</td>\n",
       "      <td>8</td>\n",
       "      <td>2/25/2015 20:11</td>\n",
       "      <td>0</td>\n",
       "      <td>False</td>\n",
       "      <td>676</td>\n",
       "      <td>en</td>\n",
       "      <td>Construction of human anti-tetanus single-chai...</td>\n",
       "      <td>True</td>\n",
       "      <td>True</td>\n",
       "      <td>False</td>\n",
       "      <td>single cell papers</td>\n",
       "      <td>1</td>\n",
       "    </tr>\n",
       "    <tr>\n",
       "      <th>4</th>\n",
       "      <td>2.955142e+09</td>\n",
       "      <td>2955142070</td>\n",
       "      <td>lucarivera16</td>\n",
       "      <td>Dublin, United States</td>\n",
       "      <td>Inspiring cooks everywhere since 1956.</td>\n",
       "      <td>NaN</td>\n",
       "      <td>11</td>\n",
       "      <td>745</td>\n",
       "      <td>0</td>\n",
       "      <td>1/1/2015 17:44</td>\n",
       "      <td>146</td>\n",
       "      <td>False</td>\n",
       "      <td>185</td>\n",
       "      <td>en</td>\n",
       "      <td>NaN</td>\n",
       "      <td>False</td>\n",
       "      <td>False</td>\n",
       "      <td>False</td>\n",
       "      <td>lucarivera16</td>\n",
       "      <td>1</td>\n",
       "    </tr>\n",
       "    <tr>\n",
       "      <th>5</th>\n",
       "      <td>8.410000e+17</td>\n",
       "      <td>8.41E+17</td>\n",
       "      <td>dantheimprover</td>\n",
       "      <td>Austin, TX</td>\n",
       "      <td>Just a guy trying to do good by telling everyo...</td>\n",
       "      <td>NaN</td>\n",
       "      <td>1</td>\n",
       "      <td>186</td>\n",
       "      <td>0</td>\n",
       "      <td>13/03/2017 22:53</td>\n",
       "      <td>0</td>\n",
       "      <td>False</td>\n",
       "      <td>11</td>\n",
       "      <td>en</td>\n",
       "      <td>Status(_api=&lt;tweepy.api.API object at 0x101927...</td>\n",
       "      <td>True</td>\n",
       "      <td>False</td>\n",
       "      <td>True</td>\n",
       "      <td>dantheimprover</td>\n",
       "      <td>1</td>\n",
       "    </tr>\n",
       "    <tr>\n",
       "      <th>6</th>\n",
       "      <td>2.482835e+09</td>\n",
       "      <td>2482834658</td>\n",
       "      <td>_all_of_us_</td>\n",
       "      <td>in a machine.</td>\n",
       "      <td>bot by @rubicon</td>\n",
       "      <td>NaN</td>\n",
       "      <td>193</td>\n",
       "      <td>0</td>\n",
       "      <td>19</td>\n",
       "      <td>Wed May 07 22:29:25 +0000 2014</td>\n",
       "      <td>0</td>\n",
       "      <td>False</td>\n",
       "      <td>6068</td>\n",
       "      <td>en</td>\n",
       "      <td>{u'contributors': None, u'truncated': False, u...</td>\n",
       "      <td>False</td>\n",
       "      <td>False</td>\n",
       "      <td>False</td>\n",
       "      <td>everything always</td>\n",
       "      <td>1</td>\n",
       "    </tr>\n",
       "    <tr>\n",
       "      <th>7</th>\n",
       "      <td>3.333574e+09</td>\n",
       "      <td>3333573622</td>\n",
       "      <td>KatamariItems</td>\n",
       "      <td>NaN</td>\n",
       "      <td>[Bot rolled up by @BeachEpisode] Cataloguing e...</td>\n",
       "      <td>NaN</td>\n",
       "      <td>8227</td>\n",
       "      <td>2</td>\n",
       "      <td>89</td>\n",
       "      <td>Thu Jun 18 22:07:31 +0000 2015</td>\n",
       "      <td>26</td>\n",
       "      <td>False</td>\n",
       "      <td>2597</td>\n",
       "      <td>en</td>\n",
       "      <td>{u'contributors': None, u'truncated': False, u...</td>\n",
       "      <td>True</td>\n",
       "      <td>False</td>\n",
       "      <td>False</td>\n",
       "      <td>Katamari Collection</td>\n",
       "      <td>1</td>\n",
       "    </tr>\n",
       "    <tr>\n",
       "      <th>8</th>\n",
       "      <td>2.996105e+09</td>\n",
       "      <td>2996105102</td>\n",
       "      <td>AutophagyPapers</td>\n",
       "      <td>NaN</td>\n",
       "      <td>Twitterbot for #Autophagy papers. Curated by @...</td>\n",
       "      <td>NaN</td>\n",
       "      <td>275</td>\n",
       "      <td>0</td>\n",
       "      <td>17</td>\n",
       "      <td>1/25/2015 17:34</td>\n",
       "      <td>23</td>\n",
       "      <td>False</td>\n",
       "      <td>9922</td>\n",
       "      <td>en</td>\n",
       "      <td>Feeding Schedule And Proteolysis Regulate Auto...</td>\n",
       "      <td>False</td>\n",
       "      <td>False</td>\n",
       "      <td>False</td>\n",
       "      <td>Autophagy Papers</td>\n",
       "      <td>1</td>\n",
       "    </tr>\n",
       "    <tr>\n",
       "      <th>9</th>\n",
       "      <td>3.271096e+09</td>\n",
       "      <td>3271095818</td>\n",
       "      <td>HSC_papers</td>\n",
       "      <td>NaN</td>\n",
       "      <td>NaN</td>\n",
       "      <td>NaN</td>\n",
       "      <td>51</td>\n",
       "      <td>3</td>\n",
       "      <td>9</td>\n",
       "      <td>7/7/2015 15:23</td>\n",
       "      <td>0</td>\n",
       "      <td>False</td>\n",
       "      <td>2515</td>\n",
       "      <td>en</td>\n",
       "      <td>Functional Selectivity in Cytokine Signaling R...</td>\n",
       "      <td>True</td>\n",
       "      <td>False</td>\n",
       "      <td>False</td>\n",
       "      <td>Hematopoiesis</td>\n",
       "      <td>1</td>\n",
       "    </tr>\n",
       "  </tbody>\n",
       "</table>\n",
       "</div>"
      ],
      "text/plain": [
       "             id                id_str       screen_name  \\\n",
       "0  8.160000e+17  \"815745789754417152\"  \"HoustonPokeMap\"   \n",
       "1  4.843621e+09            4843621225         kernyeahx   \n",
       "2  4.303727e+09            4303727112   mattlieberisbot   \n",
       "3  3.063139e+09            3063139353         sc_papers   \n",
       "4  2.955142e+09            2955142070      lucarivera16   \n",
       "5  8.410000e+17              8.41E+17    dantheimprover   \n",
       "6  2.482835e+09            2482834658       _all_of_us_   \n",
       "7  3.333574e+09            3333573622     KatamariItems   \n",
       "8  2.996105e+09            2996105102   AutophagyPapers   \n",
       "9  3.271096e+09            3271095818        HSC_papers   \n",
       "\n",
       "                    location  \\\n",
       "0              \"Houston, TX\"   \n",
       "1  Templeville town, MD, USA   \n",
       "2                        NaN   \n",
       "3                        NaN   \n",
       "4      Dublin, United States   \n",
       "5                 Austin, TX   \n",
       "6              in a machine.   \n",
       "7                        NaN   \n",
       "8                        NaN   \n",
       "9                        NaN   \n",
       "\n",
       "                                         description  \\\n",
       "0  \"Rare and strong PokŽmon in Houston, TX. See m...   \n",
       "1  From late 2014 Socium Marketplace will make sh...   \n",
       "2  Inspired by the smart, funny folks at @replyal...   \n",
       "3                                                NaN   \n",
       "4             Inspiring cooks everywhere since 1956.   \n",
       "5  Just a guy trying to do good by telling everyo...   \n",
       "6                                    bot by @rubicon   \n",
       "7  [Bot rolled up by @BeachEpisode] Cataloguing e...   \n",
       "8  Twitterbot for #Autophagy papers. Curated by @...   \n",
       "9                                                NaN   \n",
       "\n",
       "                         url  followers_count  friends_count  listed_count  \\\n",
       "0  \"https://t.co/dnWuDbFRkt\"             1291              0            10   \n",
       "1                        NaN                1            349             0   \n",
       "2    https://t.co/P1e1o0m4KC             1086              0            14   \n",
       "3                        NaN               33              0             8   \n",
       "4                        NaN               11            745             0   \n",
       "5                        NaN                1            186             0   \n",
       "6                        NaN              193              0            19   \n",
       "7                        NaN             8227              2            89   \n",
       "8                        NaN              275              0            17   \n",
       "9                        NaN               51              3             9   \n",
       "\n",
       "                         created_at  favourites_count  verified  \\\n",
       "0  \"Mon Jan 02 02:25:26 +0000 2017\"                 0     False   \n",
       "1                     2/1/2016 7:37                38     False   \n",
       "2    Fri Nov 20 18:53:22 +0000 2015                 0     False   \n",
       "3                   2/25/2015 20:11                 0     False   \n",
       "4                    1/1/2015 17:44               146     False   \n",
       "5                  13/03/2017 22:53                 0     False   \n",
       "6    Wed May 07 22:29:25 +0000 2014                 0     False   \n",
       "7    Thu Jun 18 22:07:31 +0000 2015                26     False   \n",
       "8                   1/25/2015 17:34                23     False   \n",
       "9                    7/7/2015 15:23                 0     False   \n",
       "\n",
       "   statuses_count  lang                                             status  \\\n",
       "0           78554  \"en\"  {\\r      \"created_at\": \"Sun Mar 12 15:44:04 +0...   \n",
       "1              31    en                                                NaN   \n",
       "2             713    en  {'retweeted': False, 'is_quote_status': False,...   \n",
       "3             676    en  Construction of human anti-tetanus single-chai...   \n",
       "4             185    en                                                NaN   \n",
       "5              11    en  Status(_api=<tweepy.api.API object at 0x101927...   \n",
       "6            6068    en  {u'contributors': None, u'truncated': False, u...   \n",
       "7            2597    en  {u'contributors': None, u'truncated': False, u...   \n",
       "8            9922    en  Feeding Schedule And Proteolysis Regulate Auto...   \n",
       "9            2515    en  Functional Selectivity in Cytokine Signaling R...   \n",
       "\n",
       "   default_profile  default_profile_image has_extended_profile  \\\n",
       "0             True                  False                False   \n",
       "1             True                  False                False   \n",
       "2             True                  False                False   \n",
       "3             True                   True                False   \n",
       "4            False                  False                False   \n",
       "5             True                  False                 True   \n",
       "6            False                  False                False   \n",
       "7             True                  False                False   \n",
       "8            False                  False                False   \n",
       "9             True                  False                False   \n",
       "\n",
       "                   name  bot  \n",
       "0  \"Houston PokŽ Alert\"    1  \n",
       "1           Keri Nelson    1  \n",
       "2    Matt Lieber Is Bot    1  \n",
       "3    single cell papers    1  \n",
       "4          lucarivera16    1  \n",
       "5        dantheimprover    1  \n",
       "6     everything always    1  \n",
       "7   Katamari Collection    1  \n",
       "8      Autophagy Papers    1  \n",
       "9         Hematopoiesis    1  "
      ]
     },
     "execution_count": 7,
     "metadata": {},
     "output_type": "execute_result"
    }
   ],
   "source": [
    "training_data.head(10)"
   ]
  },
  {
   "cell_type": "code",
   "execution_count": 8,
   "metadata": {},
   "outputs": [
    {
     "data": {
      "text/html": [
       "<div>\n",
       "<style scoped>\n",
       "    .dataframe tbody tr th:only-of-type {\n",
       "        vertical-align: middle;\n",
       "    }\n",
       "\n",
       "    .dataframe tbody tr th {\n",
       "        vertical-align: top;\n",
       "    }\n",
       "\n",
       "    .dataframe thead th {\n",
       "        text-align: right;\n",
       "    }\n",
       "</style>\n",
       "<table border=\"1\" class=\"dataframe\">\n",
       "  <thead>\n",
       "    <tr style=\"text-align: right;\">\n",
       "      <th></th>\n",
       "      <th>id</th>\n",
       "      <th>followers_count</th>\n",
       "      <th>friends_count</th>\n",
       "      <th>listed_count</th>\n",
       "      <th>favourites_count</th>\n",
       "      <th>statuses_count</th>\n",
       "      <th>bot</th>\n",
       "    </tr>\n",
       "  </thead>\n",
       "  <tbody>\n",
       "    <tr>\n",
       "      <th>count</th>\n",
       "      <td>2.797000e+03</td>\n",
       "      <td>2.797000e+03</td>\n",
       "      <td>2.797000e+03</td>\n",
       "      <td>2797.000000</td>\n",
       "      <td>2797.000000</td>\n",
       "      <td>2.797000e+03</td>\n",
       "      <td>2797.000000</td>\n",
       "    </tr>\n",
       "    <tr>\n",
       "      <th>mean</th>\n",
       "      <td>1.482460e+17</td>\n",
       "      <td>9.964245e+05</td>\n",
       "      <td>4.796493e+03</td>\n",
       "      <td>3192.299964</td>\n",
       "      <td>2035.577047</td>\n",
       "      <td>1.945170e+04</td>\n",
       "      <td>0.472292</td>\n",
       "    </tr>\n",
       "    <tr>\n",
       "      <th>std</th>\n",
       "      <td>3.100578e+17</td>\n",
       "      <td>5.593714e+06</td>\n",
       "      <td>5.619217e+04</td>\n",
       "      <td>17283.423291</td>\n",
       "      <td>16073.463967</td>\n",
       "      <td>1.543729e+05</td>\n",
       "      <td>0.499321</td>\n",
       "    </tr>\n",
       "    <tr>\n",
       "      <th>min</th>\n",
       "      <td>3.526000e+03</td>\n",
       "      <td>0.000000e+00</td>\n",
       "      <td>0.000000e+00</td>\n",
       "      <td>0.000000</td>\n",
       "      <td>0.000000</td>\n",
       "      <td>0.000000e+00</td>\n",
       "      <td>0.000000</td>\n",
       "    </tr>\n",
       "    <tr>\n",
       "      <th>25%</th>\n",
       "      <td>6.895649e+07</td>\n",
       "      <td>4.400000e+01</td>\n",
       "      <td>1.100000e+01</td>\n",
       "      <td>1.000000</td>\n",
       "      <td>0.000000</td>\n",
       "      <td>1.660000e+02</td>\n",
       "      <td>0.000000</td>\n",
       "    </tr>\n",
       "    <tr>\n",
       "      <th>50%</th>\n",
       "      <td>1.917035e+09</td>\n",
       "      <td>3.430000e+02</td>\n",
       "      <td>1.840000e+02</td>\n",
       "      <td>17.000000</td>\n",
       "      <td>25.000000</td>\n",
       "      <td>2.240000e+03</td>\n",
       "      <td>0.000000</td>\n",
       "    </tr>\n",
       "    <tr>\n",
       "      <th>75%</th>\n",
       "      <td>3.326332e+09</td>\n",
       "      <td>1.372500e+04</td>\n",
       "      <td>6.690000e+02</td>\n",
       "      <td>332.000000</td>\n",
       "      <td>491.000000</td>\n",
       "      <td>1.004200e+04</td>\n",
       "      <td>1.000000</td>\n",
       "    </tr>\n",
       "    <tr>\n",
       "      <th>max</th>\n",
       "      <td>8.410000e+17</td>\n",
       "      <td>9.632156e+07</td>\n",
       "      <td>2.056668e+06</td>\n",
       "      <td>620331.000000</td>\n",
       "      <td>714021.000000</td>\n",
       "      <td>6.863363e+06</td>\n",
       "      <td>1.000000</td>\n",
       "    </tr>\n",
       "  </tbody>\n",
       "</table>\n",
       "</div>"
      ],
      "text/plain": [
       "                 id  followers_count  friends_count   listed_count  \\\n",
       "count  2.797000e+03     2.797000e+03   2.797000e+03    2797.000000   \n",
       "mean   1.482460e+17     9.964245e+05   4.796493e+03    3192.299964   \n",
       "std    3.100578e+17     5.593714e+06   5.619217e+04   17283.423291   \n",
       "min    3.526000e+03     0.000000e+00   0.000000e+00       0.000000   \n",
       "25%    6.895649e+07     4.400000e+01   1.100000e+01       1.000000   \n",
       "50%    1.917035e+09     3.430000e+02   1.840000e+02      17.000000   \n",
       "75%    3.326332e+09     1.372500e+04   6.690000e+02     332.000000   \n",
       "max    8.410000e+17     9.632156e+07   2.056668e+06  620331.000000   \n",
       "\n",
       "       favourites_count  statuses_count          bot  \n",
       "count       2797.000000    2.797000e+03  2797.000000  \n",
       "mean        2035.577047    1.945170e+04     0.472292  \n",
       "std        16073.463967    1.543729e+05     0.499321  \n",
       "min            0.000000    0.000000e+00     0.000000  \n",
       "25%            0.000000    1.660000e+02     0.000000  \n",
       "50%           25.000000    2.240000e+03     0.000000  \n",
       "75%          491.000000    1.004200e+04     1.000000  \n",
       "max       714021.000000    6.863363e+06     1.000000  "
      ]
     },
     "execution_count": 8,
     "metadata": {},
     "output_type": "execute_result"
    }
   ],
   "source": [
    "training_data.describe()"
   ]
  },
  {
   "cell_type": "code",
   "execution_count": 9,
   "metadata": {},
   "outputs": [
    {
     "data": {
      "text/plain": [
       "<matplotlib.axes._subplots.AxesSubplot at 0x22071878be0>"
      ]
     },
     "execution_count": 9,
     "metadata": {},
     "output_type": "execute_result"
    },
    {
     "data": {
      "image/png": "[encoded data removed]",
      "text/plain": [
       "<Figure size 1152x864 with 2 Axes>"
      ]
     },
     "metadata": {
      "needs_background": "light"
     },
     "output_type": "display_data"
    }
   ],
   "source": [
    "features = ['id', 'id_str', 'screen_name', 'location', 'description', 'url',\n",
    "       'followers_count', 'friends_count', 'listed_count', 'created_at',\n",
    "       'favourites_count', 'verified', 'statuses_count', 'lang', 'status',\n",
    "       'default_profile', 'default_profile_image', 'has_extended_profile',\n",
    "       'name', 'bot']\n",
    "\n",
    "mask = np.zeros_like(training_data[features].corr(), dtype = np.bool) \n",
    "mask[np.triu_indices_from(mask)] = True \n",
    "\n",
    "f, ax = plt.subplots(figsize=(16, 12))\n",
    "plt.title('Pearson Correlation Matrix',fontsize=25)\n",
    "\n",
    "sns.heatmap(training_data[features].corr(),linewidths = 0.25,vmax = 0.7,square = True,cmap = \"BuGn\", \n",
    "            linecolor = 'w',annot = True,annot_kws = {\"size\":8},mask = mask,cbar_kws = {\"shrink\": 0.9})"
   ]
  },
  {
   "cell_type": "code",
   "execution_count": 10,
   "metadata": {},
   "outputs": [],
   "source": [
    "training_data.drop(['id_str', 'screen_name', 'location', 'description', 'url', 'created_at', 'lang', 'status', 'has_extended_profile','name'],axis=1,inplace=True)"
   ]
  },
  {
   "cell_type": "code",
   "execution_count": 11,
   "metadata": {},
   "outputs": [
    {
     "data": {
      "text/html": [
       "<div>\n",
       "<style scoped>\n",
       "    .dataframe tbody tr th:only-of-type {\n",
       "        vertical-align: middle;\n",
       "    }\n",
       "\n",
       "    .dataframe tbody tr th {\n",
       "        vertical-align: top;\n",
       "    }\n",
       "\n",
       "    .dataframe thead th {\n",
       "        text-align: right;\n",
       "    }\n",
       "</style>\n",
       "<table border=\"1\" class=\"dataframe\">\n",
       "  <thead>\n",
       "    <tr style=\"text-align: right;\">\n",
       "      <th></th>\n",
       "      <th>id</th>\n",
       "      <th>followers_count</th>\n",
       "      <th>friends_count</th>\n",
       "      <th>listed_count</th>\n",
       "      <th>favourites_count</th>\n",
       "      <th>verified</th>\n",
       "      <th>statuses_count</th>\n",
       "      <th>default_profile</th>\n",
       "      <th>default_profile_image</th>\n",
       "      <th>bot</th>\n",
       "    </tr>\n",
       "  </thead>\n",
       "  <tbody>\n",
       "    <tr>\n",
       "      <th>0</th>\n",
       "      <td>8.160000e+17</td>\n",
       "      <td>1291</td>\n",
       "      <td>0</td>\n",
       "      <td>10</td>\n",
       "      <td>0</td>\n",
       "      <td>False</td>\n",
       "      <td>78554</td>\n",
       "      <td>True</td>\n",
       "      <td>False</td>\n",
       "      <td>1</td>\n",
       "    </tr>\n",
       "    <tr>\n",
       "      <th>1</th>\n",
       "      <td>4.843621e+09</td>\n",
       "      <td>1</td>\n",
       "      <td>349</td>\n",
       "      <td>0</td>\n",
       "      <td>38</td>\n",
       "      <td>False</td>\n",
       "      <td>31</td>\n",
       "      <td>True</td>\n",
       "      <td>False</td>\n",
       "      <td>1</td>\n",
       "    </tr>\n",
       "    <tr>\n",
       "      <th>2</th>\n",
       "      <td>4.303727e+09</td>\n",
       "      <td>1086</td>\n",
       "      <td>0</td>\n",
       "      <td>14</td>\n",
       "      <td>0</td>\n",
       "      <td>False</td>\n",
       "      <td>713</td>\n",
       "      <td>True</td>\n",
       "      <td>False</td>\n",
       "      <td>1</td>\n",
       "    </tr>\n",
       "    <tr>\n",
       "      <th>3</th>\n",
       "      <td>3.063139e+09</td>\n",
       "      <td>33</td>\n",
       "      <td>0</td>\n",
       "      <td>8</td>\n",
       "      <td>0</td>\n",
       "      <td>False</td>\n",
       "      <td>676</td>\n",
       "      <td>True</td>\n",
       "      <td>True</td>\n",
       "      <td>1</td>\n",
       "    </tr>\n",
       "    <tr>\n",
       "      <th>4</th>\n",
       "      <td>2.955142e+09</td>\n",
       "      <td>11</td>\n",
       "      <td>745</td>\n",
       "      <td>0</td>\n",
       "      <td>146</td>\n",
       "      <td>False</td>\n",
       "      <td>185</td>\n",
       "      <td>False</td>\n",
       "      <td>False</td>\n",
       "      <td>1</td>\n",
       "    </tr>\n",
       "  </tbody>\n",
       "</table>\n",
       "</div>"
      ],
      "text/plain": [
       "             id  followers_count  friends_count  listed_count  \\\n",
       "0  8.160000e+17             1291              0            10   \n",
       "1  4.843621e+09                1            349             0   \n",
       "2  4.303727e+09             1086              0            14   \n",
       "3  3.063139e+09               33              0             8   \n",
       "4  2.955142e+09               11            745             0   \n",
       "\n",
       "   favourites_count  verified  statuses_count  default_profile  \\\n",
       "0                 0     False           78554             True   \n",
       "1                38     False              31             True   \n",
       "2                 0     False             713             True   \n",
       "3                 0     False             676             True   \n",
       "4               146     False             185            False   \n",
       "\n",
       "   default_profile_image  bot  \n",
       "0                  False    1  \n",
       "1                  False    1  \n",
       "2                  False    1  \n",
       "3                   True    1  \n",
       "4                  False    1  "
      ]
     },
     "execution_count": 11,
     "metadata": {},
     "output_type": "execute_result"
    }
   ],
   "source": [
    "training_data.head()"
   ]
  },
  {
   "cell_type": "code",
   "execution_count": 25,
   "metadata": {},
   "outputs": [
    {
     "data": {
      "image/png": "[encoded data removed]",
      "text/plain": [
       "<Figure size 360x360 with 1 Axes>"
      ]
     },
     "metadata": {
      "needs_background": "light"
     },
     "output_type": "display_data"
    },
    {
     "data": {
      "image/png": "[encoded data removed]",
      "text/plain": [
       "<Figure size 360x360 with 1 Axes>"
      ]
     },
     "metadata": {
      "needs_background": "light"
     },
     "output_type": "display_data"
    },
    {
     "data": {
      "image/png": "[encoded data removed]",
      "text/plain": [
       "<Figure size 360x360 with 1 Axes>"
      ]
     },
     "metadata": {
      "needs_background": "light"
     },
     "output_type": "display_data"
    }
   ],
   "source": [
    "sns.catplot(x=\"bot\", y=\"followers_count\", data=training_data);\n",
    "sns.catplot(x=\"bot\", y=\"friends_count\", data=training_data);\n",
    "sns.catplot(x=\"bot\", y=\"listed_count\", data=training_data);"
   ]
  },
  {
   "cell_type": "code",
   "execution_count": 26,
   "metadata": {},
   "outputs": [
    {
     "data": {
      "image/png": "[encoded data removed]",
      "text/plain": [
       "<Figure size 360x360 with 1 Axes>"
      ]
     },
     "metadata": {
      "needs_background": "light"
     },
     "output_type": "display_data"
    },
    {
     "data": {
      "image/png": "[encoded data removed]",
      "text/plain": [
       "<Figure size 360x360 with 1 Axes>"
      ]
     },
     "metadata": {
      "needs_background": "light"
     },
     "output_type": "display_data"
    },
    {
     "data": {
      "image/png": "[encoded data removed]",
      "text/plain": [
       "<Figure size 360x360 with 1 Axes>"
      ]
     },
     "metadata": {
      "needs_background": "light"
     },
     "output_type": "display_data"
    }
   ],
   "source": [
    "sns.catplot(x=\"bot\", y=\"favourites_count\", data=training_data);\n",
    "sns.catplot(x=\"bot\", y=\"verified\", data=training_data);\n",
    "sns.catplot(x=\"bot\", y=\"statuses_count\", data=training_data);"
   ]
  },
  {
   "cell_type": "code",
   "execution_count": 12,
   "metadata": {},
   "outputs": [],
   "source": [
    "X = training_data.iloc[:, :-1].values\n",
    "y = training_data.iloc[:, 9].values"
   ]
  },
  {
   "cell_type": "code",
   "execution_count": 13,
   "metadata": {},
   "outputs": [],
   "source": [
    "from sklearn.preprocessing import LabelEncoder\n",
    "Labelx=LabelEncoder()\n",
    "X[:,5]=Labelx.fit_transform(X[:,5])\n",
    "X[:,7]=Labelx.fit_transform(X[:,7])\n",
    "X[:,8]=Labelx.fit_transform(X[:,8])"
   ]
  },
  {
   "cell_type": "markdown",
   "metadata": {},
   "source": [
    "# KNN"
   ]
  },
  {
   "cell_type": "code",
   "execution_count": 17,
   "metadata": {},
   "outputs": [
    {
     "name": "stdout",
     "output_type": "stream",
     "text": [
      "Accuracy is 88.4179%\n",
      " Precision is 100.0000%\n",
      " Recall is 88.4179%\n",
      "F1 Score is 0.9385\n",
      "\n",
      "Accuracy is 85.3659%\n",
      " Precision is 0.0000%\n",
      " Recall is 0.0000%\n",
      "F1 Score is 0.9211\n",
      "\n"
     ]
    }
   ],
   "source": [
    "from sklearn.neighbors import KNeighborsClassifier as knn\n",
    "classifier=knn(n_neighbors=5)\n",
    "classifier.fit(X,y)\n",
    "bots = training_data[training_data.bot==1]\n",
    "Nbots = training_data[training_data.bot==0]\n",
    " \n",
    "B = bots.iloc[:,:-1]\n",
    "B_y = bots.iloc[:,9]\n",
    "B_pred = classifier.predict(B)\n",
    "\n",
    "#Confusionmatrix\n",
    "from sklearn.metrics import confusion_matrix\n",
    "cm=confusion_matrix(B_y,B_pred)\n",
    "Performance(B_y,B_pred)\n",
    "\n",
    "NB = Nbots.iloc[:,:-1]\n",
    "NB_y = Nbots.iloc[:,9]\n",
    "NB_pred = classifier.predict(NB)\n",
    "\n",
    "#Confusionmatrix\n",
    "from sklearn.metrics import confusion_matrix\n",
    "cm=confusion_matrix(NB_y,NB_pred)\n",
    "Performance(NB_y,NB_pred)"
   ]
  },
  {
   "cell_type": "markdown",
   "metadata": {},
   "source": [
    "# SVM"
   ]
  },
  {
   "cell_type": "code",
   "execution_count": 18,
   "metadata": {},
   "outputs": [
    {
     "name": "stdout",
     "output_type": "stream",
     "text": [
      "Accuracy is 31.7941%\n",
      " Precision is 100.0000%\n",
      " Recall is 31.7941%\n",
      "F1 Score is 0.4825\n",
      "\n",
      "Accuracy is 93.0894%\n",
      " Precision is 0.0000%\n",
      " Recall is 0.0000%\n",
      "F1 Score is 0.9642\n",
      "\n"
     ]
    }
   ],
   "source": [
    "from sklearn.svm import SVC\n",
    "classifier=SVC(kernel='rbf', random_state=0)\n",
    "classifier.fit(X,y)\n",
    "bots = training_data[training_data.bot==1]\n",
    "Nbots = training_data[training_data.bot==0]\n",
    " \n",
    "B = bots.iloc[:,:-1]\n",
    "B_y = bots.iloc[:,9]\n",
    "B_pred = classifier.predict(B)\n",
    "\n",
    "#Confusionmatrix\n",
    "from sklearn.metrics import confusion_matrix\n",
    "cm=confusion_matrix(B_y,B_pred)\n",
    "Performance(B_y,B_pred)\n",
    "\n",
    "NB = Nbots.iloc[:,:-1]\n",
    "NB_y = Nbots.iloc[:,9]\n",
    "NB_pred = classifier.predict(NB)\n",
    "\n",
    "#Confusionmatrix\n",
    "from sklearn.metrics import confusion_matrix\n",
    "cm=confusion_matrix(NB_y,NB_pred)\n",
    "Performance(NB_y,NB_pred)\n"
   ]
  },
  {
   "cell_type": "markdown",
   "metadata": {},
   "source": [
    "# Naive Bayes"
   ]
  },
  {
   "cell_type": "code",
   "execution_count": 19,
   "metadata": {},
   "outputs": [
    {
     "name": "stdout",
     "output_type": "stream",
     "text": [
      "Accuracy is 31.7941%\n",
      " Precision is 100.0000%\n",
      " Recall is 31.7941%\n",
      "F1 Score is 0.4825\n",
      "\n",
      "Accuracy is 93.0894%\n",
      " Precision is 0.0000%\n",
      " Recall is 0.0000%\n",
      "F1 Score is 0.9642\n",
      "\n"
     ]
    }
   ],
   "source": [
    "from sklearn.naive_bayes import GaussianNB as GNB\n",
    "classifier=GNB()\n",
    "classifier.fit(X,y)\n",
    "bots = training_data[training_data.bot==1]\n",
    "Nbots = training_data[training_data.bot==0]\n",
    " \n",
    "B = bots.iloc[:,:-1]\n",
    "B_y = bots.iloc[:,9]\n",
    "B_pred = classifier.predict(B)\n",
    "\n",
    "#Confusionmatrix\n",
    "from sklearn.metrics import confusion_matrix\n",
    "cm=confusion_matrix(B_y,B_pred)\n",
    "Performance(B_y,B_pred)\n",
    "\n",
    "NB = Nbots.iloc[:,:-1]\n",
    "NB_y = Nbots.iloc[:,9]\n",
    "NB_pred = classifier.predict(NB)\n",
    "\n",
    "#Confusionmatrix\n",
    "from sklearn.metrics import confusion_matrix\n",
    "cm=confusion_matrix(NB_y,NB_pred)\n",
    "Performance(NB_y,NB_pred)"
   ]
  },
  {
   "cell_type": "markdown",
   "metadata": {},
   "source": [
    "# Random Forest"
   ]
  },
  {
   "cell_type": "code",
   "execution_count": 20,
   "metadata": {},
   "outputs": [
    {
     "name": "stdout",
     "output_type": "stream",
     "text": [
      "Accuracy is 99.1673%\n",
      " Precision is 100.0000%\n",
      " Recall is 99.1673%\n",
      "F1 Score is 0.9958\n",
      "\n",
      "Accuracy is 99.5935%\n",
      " Precision is 0.0000%\n",
      " Recall is 0.0000%\n",
      "F1 Score is 0.9980\n",
      "\n"
     ]
    }
   ],
   "source": [
    "#fitting\n",
    "from sklearn.ensemble import RandomForestClassifier as rf\n",
    "classifier= rf(n_estimators=10,criterion='entropy',random_state=0)\n",
    "classifier.fit(X,y)\n",
    "bots = training_data[training_data.bot==1]\n",
    "Nbots = training_data[training_data.bot==0]\n",
    "\n",
    "B = bots.iloc[:,:-1]\n",
    "B_y = bots.iloc[:,9]\n",
    "B_pred = classifier.predict(B)\n",
    "\n",
    "#Confusionmatrix\n",
    "from sklearn.metrics import confusion_matrix\n",
    "cm=confusion_matrix(B_y,B_pred)\n",
    "Performance(B_y,B_pred)\n",
    "\n",
    "NB = Nbots.iloc[:,:-1]\n",
    "NB_y = Nbots.iloc[:,9]\n",
    "NB_pred = classifier.predict(NB)\n",
    " \n",
    "#Confusionmatrix\n",
    "from sklearn.metrics import confusion_matrix\n",
    "cm=confusion_matrix(NB_y,NB_pred)\n",
    "Performance(NB_y,NB_pred)"
   ]
  },
  {
   "cell_type": "markdown",
   "metadata": {},
   "source": [
    "# Decision Tree Classifier"
   ]
  },
  {
   "cell_type": "code",
   "execution_count": 21,
   "metadata": {},
   "outputs": [
    {
     "name": "stdout",
     "output_type": "stream",
     "text": [
      "Accuracy is 99.8486%\n",
      " Precision is 100.0000%\n",
      " Recall is 99.8486%\n",
      "F1 Score is 0.9992\n",
      "\n",
      "Accuracy is 100.0000%\n",
      " Precision is 0.0000%\n",
      " Recall is 0.0000%\n",
      "F1 Score is 1.0000\n",
      "\n"
     ]
    }
   ],
   "source": [
    "from sklearn.tree import DecisionTreeClassifier as DTC\n",
    "classifier= DTC(criterion=\"entropy\")\n",
    "classifier.fit(X,y)\n",
    "bots = training_data[training_data.bot==1]\n",
    "Nbots = training_data[training_data.bot==0]\n",
    " \n",
    "B = bots.iloc[:,:-1]\n",
    "B_y = bots.iloc[:,9]\n",
    "B_pred = classifier.predict(B)\n",
    "\n",
    "#Confusionmatrix\n",
    "from sklearn.metrics import confusion_matrix\n",
    "cm=confusion_matrix(B_y,B_pred)\n",
    "Performance(B_y,B_pred)\n",
    "\n",
    "NB = Nbots.iloc[:,:-1]\n",
    "NB_y = Nbots.iloc[:,9]\n",
    "NB_pred = classifier.predict(NB)\n",
    "\n",
    "#Confusionmatrix\n",
    "from sklearn.metrics import confusion_matrix\n",
    "cm=confusion_matrix(NB_y,NB_pred)\n",
    "Performance(NB_y,NB_pred)\n"
   ]
  },
  {
   "cell_type": "markdown",
   "metadata": {},
   "source": [
    "# On comparing Accuracy, Best Method is Decision Tree Classifier"
   ]
  },
  {
   "cell_type": "markdown",
   "metadata": {},
   "source": [
    "# Working on test data"
   ]
  },
  {
   "cell_type": "code",
   "execution_count": 22,
   "metadata": {},
   "outputs": [],
   "source": [
    "from sklearn.tree import DecisionTreeClassifier as DTC\n",
    "classifier= DTC(criterion=\"entropy\")\n",
    "classifier.fit(X,y)\n",
    "test_data = pd.read_csv(\"test_data_4_students.csv\");\n",
    "test_data.drop(['id_str', 'screen_name', 'location', 'description', 'url', 'created_at', 'lang', 'status', 'has_extended_profile','name'],axis=1,inplace=True)\n",
    "\n",
    "\n",
    "X1 = training_data.iloc[:, :-1].values\n",
    "\n",
    "from sklearn.preprocessing import LabelEncoder\n",
    "Labelx=LabelEncoder()\n",
    "X1[:,6]=Labelx.fit_transform(X1[:,6])\n",
    "X1[:,7]=Labelx.fit_transform(X1[:,7])\n",
    "X1[:,8]=Labelx.fit_transform(X1[:,8])\n",
    "y1_pred = classifier.predict(X1)\n",
    "y1_pred=pd.DataFrame(y1_pred);\n",
    "y1_pred.to_csv(\"Result.csv\",index=False);"
   ]
  },
  {
   "cell_type": "code",
   "execution_count": 23,
   "metadata": {},
   "outputs": [
    {
     "name": "stdout",
     "output_type": "stream",
     "text": [
      "      0\n",
      "0     1\n",
      "1     1\n",
      "2     1\n",
      "3     1\n",
      "4     1\n",
      "...  ..\n",
      "2792  0\n",
      "2793  0\n",
      "2794  0\n",
      "2795  0\n",
      "2796  0\n",
      "\n",
      "[2797 rows x 1 columns]\n"
     ]
    }
   ],
   "source": [
    "print(y1_pred)"
   ]
  },
  {
   "cell_type": "markdown",
   "metadata": {},
   "source": [
    "# My Own Algorithm"
   ]
  },
  {
   "cell_type": "code",
   "execution_count": 24,
   "metadata": {},
   "outputs": [
    {
     "name": "stdout",
     "output_type": "stream",
     "text": [
      "Accuracy is 95.3802%\n",
      " Precision is 90.2637%\n",
      " Recall is 100.0000%\n",
      "F1 Score is 0.9540\n",
      "\n"
     ]
    }
   ],
   "source": [
    "class twitter_bot(object):\n",
    "    def __init__(self):\n",
    "        pass\n",
    "\n",
    "    def perform_train_test_split(df):\n",
    "        msk = np.random.rand(len(df)) < 0.75\n",
    "        train, test = df[msk], df[~msk]\n",
    "        X_train, y_train = train, train.iloc[:,-1]\n",
    "        X_test, y_test = test, test.iloc[:, -1]\n",
    "        return (X_train, y_train, X_test, y_test)\n",
    "\n",
    "    def bot_prediction_algorithm(df):\n",
    "        train_df = df.copy()\n",
    "        # converting id to int\n",
    "        train_df['id'] = train_df.id.apply(lambda x: int(x))\n",
    "        bag_of_words_bot = r'BOT|Bot|bot|b0t|cannabis|tweet me|mishear|follow me|updates every|gorilla|yes_ofc|forget' \\\n",
    "                           r'expos|kill|clit|bbb|butt|fuck|XXX|sex|truthe|fake|anony|free|virus|funky|RNA|kuck|jargon' \\\n",
    "                           r'nerd|swag|jack|bang|bonsai|chick|prison|paper|pokem|xx|freak|ffd|dunia|clone|genie|bbb' \\\n",
    "                           r'ffd|onlyman|emoji|joke|troll|droop|free|every|wow|cheese|yeah|bio|magic|wizard|face'\n",
    "\n",
    "\n",
    "        # converting verified into vectors\n",
    "        train_df['verified'] = train_df.verified.apply(lambda x: 1 if ((x == True) or x == 'TRUE') else 0)\n",
    "        # check if the name contains bot or screenname contains b0t\n",
    "        condition = ((train_df.name.str.contains(bag_of_words_bot, case=False, na=False)) |\n",
    "                     (train_df.description.str.contains(bag_of_words_bot, case=False, na=False)) |\n",
    "                     (train_df.screen_name.str.contains(bag_of_words_bot, case=False, na=False)) |\n",
    "                     (train_df.status.str.contains(bag_of_words_bot, case=False, na=False))\n",
    "                     )  # these all are bots\n",
    "        predicted_df = train_df[condition]  # these all are bots\n",
    "        predicted_df.bot = 1\n",
    "        predicted_df = predicted_df[['id', 'bot']]\n",
    "\n",
    "        # check if the user is verified\n",
    "        verified_df = train_df[~condition]\n",
    "        condition = (verified_df.verified == 1)  # these all are nonbots\n",
    "        predicted_df1 = verified_df[condition][['id', 'bot']]\n",
    "        predicted_df1.bot = 0\n",
    "        predicted_df = pd.concat([predicted_df, predicted_df1])\n",
    "\n",
    "        # check if description contains buzzfeed\n",
    "        buzzfeed_df = verified_df[~condition]\n",
    "        condition = (buzzfeed_df.description.str.contains(\"buzzfeed\", case=False, na=False))  # these all are nonbots\n",
    "        predicted_df1 = buzzfeed_df[buzzfeed_df.description.str.contains(\"buzzfeed\", case=False, na=False)][['id', 'bot']]\n",
    "        predicted_df1.bot = 0\n",
    "        predicted_df = pd.concat([predicted_df, predicted_df1])\n",
    "\n",
    "        # check if listed_count>16000\n",
    "        listed_count_df = buzzfeed_df[~condition]\n",
    "        listed_count_df.listed_count = listed_count_df.listed_count.apply(lambda x: 0 if x == 'None' else x)\n",
    "        listed_count_df.listed_count = listed_count_df.listed_count.apply(lambda x: int(x))\n",
    "        condition = (listed_count_df.listed_count > 16000)  # these all are nonbots\n",
    "        predicted_df1 = listed_count_df[condition][['id', 'bot']]\n",
    "        predicted_df1.bot = 0\n",
    "        predicted_df = pd.concat([predicted_df, predicted_df1])\n",
    "        #remaining\n",
    "        predicted_df1 = listed_count_df[~condition][['id', 'bot']]\n",
    "        predicted_df1.bot = 0 # these all are nonbots\n",
    "        predicted_df = pd.concat([predicted_df, predicted_df1])\n",
    "        return predicted_df\n",
    "\n",
    "    def get_predicted_and_true_values(features, target):\n",
    "        y_pred, y_true = twitter_bot.bot_prediction_algorithm(features).bot.tolist(), target.tolist()\n",
    "        return (y_pred, y_true)\n",
    "\n",
    "    def get_accuracy_score(df):\n",
    "        (X_train, y_train, X_test, y_test) = twitter_bot.perform_train_test_split(df)\n",
    "        # predictions on training data\n",
    "        y_pred_train, y_true_train = twitter_bot.get_predicted_and_true_values(X_train, y_train)\n",
    "        Performance(y_pred_train, y_true_train)\n",
    "\n",
    "if __name__ == '__main__':\n",
    "    train_ = pd.read_csv('training_data_2_csv_UTF.csv')\n",
    "    test_ = pd.read_csv('test_data_4_students.csv')\n",
    "    \n",
    "\n",
    "    train_.drop(['id_str', 'location', 'url', 'created_at', 'lang', 'has_extended_profile'],axis=1,inplace=True)\n",
    "    test_.drop(['id_str', 'location', 'url', 'created_at', 'lang', 'has_extended_profile'],axis=1,inplace=True)  \n",
    "    predicted_df = twitter_bot.bot_prediction_algorithm(test_)   \n",
    "    twitter_bot.get_accuracy_score(train_)"
   ]
  },
  {
   "cell_type": "code",
   "execution_count": 34,
   "metadata": {},
   "outputs": [],
   "source": [
    "BKNN=[]\n",
    "BSVM=[]\n",
    "BNB=[]\n",
    "BRF=[]\n",
    "BDT=[]\n",
    "MA=[]\n",
    "NBKNN=[]\n",
    "NBSVM=[]\n",
    "NBNB=[]\n",
    "NBRF=[]\n",
    "NBDT=[]\n",
    "BKNN.append(88.4179)\n",
    "BKNN.append(85.3659)\n",
    "BSVM.append(31.7941)\n",
    "BSVM.append(93.0894)\n",
    "BNB.append(31.7941)\n",
    "BNB.append(93.0894)\n",
    "BRF.append(99.1673)\n",
    "BRF.append(99.5935)\n",
    "BDT.append(99.8486)\n",
    "BDT.append(100.00)\n",
    "MA.append(95.3802)\n",
    "MA.append(95.3802)"
   ]
  },
  {
   "cell_type": "code",
   "execution_count": 37,
   "metadata": {},
   "outputs": [
    {
     "data": {
      "image/png": "[encoded data removed]",
      "text/plain": [
       "<Figure size 432x288 with 1 Axes>"
      ]
     },
     "metadata": {
      "needs_background": "light"
     },
     "output_type": "display_data"
    }
   ],
   "source": [
    "bar_width = 0.35\n",
    "opacity = 0.9\n",
    "index = np.arange(2)\n",
    "from matplotlib import pyplot as plt\n",
    "\n",
    "def bar_plot(ax, data, colors=None, total_width=0.8, single_width=1, legend=True):\n",
    "        # Check if colors where provided, otherwhise use the default color cycle\n",
    "    if colors is None:\n",
    "        colors = plt.rcParams['axes.prop_cycle'].by_key()['color']\n",
    "\n",
    "    # Number of bars per group\n",
    "    n_bars = len(data)\n",
    "\n",
    "    # The width of a single bar\n",
    "    bar_width = total_width / n_bars\n",
    "\n",
    "    # List containing handles for the drawn bars, used for the legend\n",
    "    bars = []\n",
    "\n",
    "    # Iterate over all data\n",
    "    for i, (name, values) in enumerate(data.items()):\n",
    "        # The offset in x direction of that bar\n",
    "        x_offset = (i - n_bars / 2) * bar_width + bar_width / 2\n",
    "\n",
    "        # Draw a bar for every value of that type\n",
    "        for x, y in enumerate(values):\n",
    "            bar = ax.bar(x + x_offset, y, width=bar_width * single_width, color=colors[i % len(colors)])\n",
    "\n",
    "        # Add a handle to the last drawn bar, which we'll need for the legend\n",
    "        bars.append(bar[0])\n",
    "\n",
    "    # Draw legend if we need\n",
    "    if legend:\n",
    "        ax.legend(bars, data.keys())\n",
    "\n",
    "\n",
    "if __name__ == \"__main__\":\n",
    "    # Usage example:\n",
    "    data = {\n",
    "        \"KNN\": BKNN,\n",
    "        \"SVM\": BSVM,\n",
    "        \"Naive Bayes\": BNB,\n",
    "        \"Random forest\": BRF,\n",
    "        \"Decision Tree\": BDT,\n",
    "        \"My Algorithm\":MA\n",
    "    }\n",
    "\n",
    "    fig, ax = plt.subplots()\n",
    "    bar_plot(ax, data, total_width=.8, single_width=.9)\n",
    "    plt.xticks(index + bar_width , ('Bot Dataset','Non Bot Dataset'))\n",
    "    plt.title(\"Accuracy\")\n",
    "    plt.show()"
   ]
  },
  {
   "cell_type": "code",
   "execution_count": null,
   "metadata": {},
   "outputs": [],
   "source": []
  }
 ],
 "metadata": {
  "kernelspec": {
   "display_name": "Python 3",
   "language": "python",
   "name": "python3"
  },
  "language_info": {
   "codemirror_mode": {
    "name": "ipython",
    "version": 3
   },
   "file_extension": ".py",
   "mimetype": "text/x-python",
   "name": "python",
   "nbconvert_exporter": "python",
   "pygments_lexer": "ipython3",
   "version": "3.7.1"
  }
 },
 "nbformat": 4,
 "nbformat_minor": 4
}
